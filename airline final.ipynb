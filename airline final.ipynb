{
 "cells": [
  {
   "cell_type": "code",
   "execution_count": 1,
   "id": "67038e10",
   "metadata": {},
   "outputs": [],
   "source": [
    "import pandas as pd\n",
    "import numpy as np\n",
    "import seaborn as sns\n",
    "import matplotlib.pyplot as plt\n",
    "import re\n",
    "import nltk\n",
    "from nltk.corpus import stopwords\n",
    "from sklearn.model_selection import train_test_split\n",
    "from mlxtend.plotting import plot_confusion_matrix\n",
    "from sklearn.ensemble import RandomForestClassifier\n",
    "from sklearn.metrics import accuracy_score,confusion_matrix,classification_report\n"
   ]
  },
  {
   "cell_type": "markdown",
   "id": "6e3f41d1",
   "metadata": {},
   "source": [
    "# SENTIMENT ANALYSIS OF TWEETS FROM AIRLINE USERS"
   ]
  },
  {
   "cell_type": "code",
   "execution_count": 2,
   "id": "7e327643",
   "metadata": {},
   "outputs": [],
   "source": [
    "# objective: \n",
    "\n",
    "# 1. which airline provides the good service(Most prefered)-Based on sentiment confidence\n",
    "# 2.Reasons for the negative reviews\n",
    "# 3.Points for improvements\n",
    "#4.apply machine learning model"
   ]
  },
  {
   "cell_type": "code",
   "execution_count": 3,
   "id": "2f72df4a",
   "metadata": {},
   "outputs": [],
   "source": [
    "df=pd.read_csv(\"C:\\\\Users\\\\DELL\\\\OneDrive\\\\Desktop\\\\Edubridge\\\\Tweets.csv\")"
   ]
  },
  {
   "cell_type": "code",
   "execution_count": 4,
   "id": "8c6334df",
   "metadata": {},
   "outputs": [
    {
     "data": {
      "text/html": [
       "<div>\n",
       "<style scoped>\n",
       "    .dataframe tbody tr th:only-of-type {\n",
       "        vertical-align: middle;\n",
       "    }\n",
       "\n",
       "    .dataframe tbody tr th {\n",
       "        vertical-align: top;\n",
       "    }\n",
       "\n",
       "    .dataframe thead th {\n",
       "        text-align: right;\n",
       "    }\n",
       "</style>\n",
       "<table border=\"1\" class=\"dataframe\">\n",
       "  <thead>\n",
       "    <tr style=\"text-align: right;\">\n",
       "      <th></th>\n",
       "      <th>tweet_id</th>\n",
       "      <th>airline_sentiment</th>\n",
       "      <th>airline_sentiment_confidence</th>\n",
       "      <th>negativereason</th>\n",
       "      <th>negativereason_confidence</th>\n",
       "      <th>airline</th>\n",
       "      <th>airline_sentiment_gold</th>\n",
       "      <th>name</th>\n",
       "      <th>negativereason_gold</th>\n",
       "      <th>retweet_count</th>\n",
       "      <th>text</th>\n",
       "      <th>tweet_coord</th>\n",
       "      <th>tweet_created</th>\n",
       "      <th>tweet_location</th>\n",
       "      <th>user_timezone</th>\n",
       "    </tr>\n",
       "  </thead>\n",
       "  <tbody>\n",
       "    <tr>\n",
       "      <th>0</th>\n",
       "      <td>570306133677760513</td>\n",
       "      <td>neutral</td>\n",
       "      <td>1.0000</td>\n",
       "      <td>NaN</td>\n",
       "      <td>NaN</td>\n",
       "      <td>Virgin America</td>\n",
       "      <td>NaN</td>\n",
       "      <td>cairdin</td>\n",
       "      <td>NaN</td>\n",
       "      <td>0</td>\n",
       "      <td>@VirginAmerica What @dhepburn said.</td>\n",
       "      <td>NaN</td>\n",
       "      <td>2015-02-24 11:35:52 -0800</td>\n",
       "      <td>NaN</td>\n",
       "      <td>Eastern Time (US &amp; Canada)</td>\n",
       "    </tr>\n",
       "    <tr>\n",
       "      <th>1</th>\n",
       "      <td>570301130888122368</td>\n",
       "      <td>positive</td>\n",
       "      <td>0.3486</td>\n",
       "      <td>NaN</td>\n",
       "      <td>0.0000</td>\n",
       "      <td>Virgin America</td>\n",
       "      <td>NaN</td>\n",
       "      <td>jnardino</td>\n",
       "      <td>NaN</td>\n",
       "      <td>0</td>\n",
       "      <td>@VirginAmerica plus you've added commercials t...</td>\n",
       "      <td>NaN</td>\n",
       "      <td>2015-02-24 11:15:59 -0800</td>\n",
       "      <td>NaN</td>\n",
       "      <td>Pacific Time (US &amp; Canada)</td>\n",
       "    </tr>\n",
       "    <tr>\n",
       "      <th>2</th>\n",
       "      <td>570301083672813571</td>\n",
       "      <td>neutral</td>\n",
       "      <td>0.6837</td>\n",
       "      <td>NaN</td>\n",
       "      <td>NaN</td>\n",
       "      <td>Virgin America</td>\n",
       "      <td>NaN</td>\n",
       "      <td>yvonnalynn</td>\n",
       "      <td>NaN</td>\n",
       "      <td>0</td>\n",
       "      <td>@VirginAmerica I didn't today... Must mean I n...</td>\n",
       "      <td>NaN</td>\n",
       "      <td>2015-02-24 11:15:48 -0800</td>\n",
       "      <td>Lets Play</td>\n",
       "      <td>Central Time (US &amp; Canada)</td>\n",
       "    </tr>\n",
       "    <tr>\n",
       "      <th>3</th>\n",
       "      <td>570301031407624196</td>\n",
       "      <td>negative</td>\n",
       "      <td>1.0000</td>\n",
       "      <td>Bad Flight</td>\n",
       "      <td>0.7033</td>\n",
       "      <td>Virgin America</td>\n",
       "      <td>NaN</td>\n",
       "      <td>jnardino</td>\n",
       "      <td>NaN</td>\n",
       "      <td>0</td>\n",
       "      <td>@VirginAmerica it's really aggressive to blast...</td>\n",
       "      <td>NaN</td>\n",
       "      <td>2015-02-24 11:15:36 -0800</td>\n",
       "      <td>NaN</td>\n",
       "      <td>Pacific Time (US &amp; Canada)</td>\n",
       "    </tr>\n",
       "    <tr>\n",
       "      <th>4</th>\n",
       "      <td>570300817074462722</td>\n",
       "      <td>negative</td>\n",
       "      <td>1.0000</td>\n",
       "      <td>Can't Tell</td>\n",
       "      <td>1.0000</td>\n",
       "      <td>Virgin America</td>\n",
       "      <td>NaN</td>\n",
       "      <td>jnardino</td>\n",
       "      <td>NaN</td>\n",
       "      <td>0</td>\n",
       "      <td>@VirginAmerica and it's a really big bad thing...</td>\n",
       "      <td>NaN</td>\n",
       "      <td>2015-02-24 11:14:45 -0800</td>\n",
       "      <td>NaN</td>\n",
       "      <td>Pacific Time (US &amp; Canada)</td>\n",
       "    </tr>\n",
       "  </tbody>\n",
       "</table>\n",
       "</div>"
      ],
      "text/plain": [
       "             tweet_id airline_sentiment  airline_sentiment_confidence  \\\n",
       "0  570306133677760513           neutral                        1.0000   \n",
       "1  570301130888122368          positive                        0.3486   \n",
       "2  570301083672813571           neutral                        0.6837   \n",
       "3  570301031407624196          negative                        1.0000   \n",
       "4  570300817074462722          negative                        1.0000   \n",
       "\n",
       "  negativereason  negativereason_confidence         airline  \\\n",
       "0            NaN                        NaN  Virgin America   \n",
       "1            NaN                     0.0000  Virgin America   \n",
       "2            NaN                        NaN  Virgin America   \n",
       "3     Bad Flight                     0.7033  Virgin America   \n",
       "4     Can't Tell                     1.0000  Virgin America   \n",
       "\n",
       "  airline_sentiment_gold        name negativereason_gold  retweet_count  \\\n",
       "0                    NaN     cairdin                 NaN              0   \n",
       "1                    NaN    jnardino                 NaN              0   \n",
       "2                    NaN  yvonnalynn                 NaN              0   \n",
       "3                    NaN    jnardino                 NaN              0   \n",
       "4                    NaN    jnardino                 NaN              0   \n",
       "\n",
       "                                                text tweet_coord  \\\n",
       "0                @VirginAmerica What @dhepburn said.         NaN   \n",
       "1  @VirginAmerica plus you've added commercials t...         NaN   \n",
       "2  @VirginAmerica I didn't today... Must mean I n...         NaN   \n",
       "3  @VirginAmerica it's really aggressive to blast...         NaN   \n",
       "4  @VirginAmerica and it's a really big bad thing...         NaN   \n",
       "\n",
       "               tweet_created tweet_location               user_timezone  \n",
       "0  2015-02-24 11:35:52 -0800            NaN  Eastern Time (US & Canada)  \n",
       "1  2015-02-24 11:15:59 -0800            NaN  Pacific Time (US & Canada)  \n",
       "2  2015-02-24 11:15:48 -0800      Lets Play  Central Time (US & Canada)  \n",
       "3  2015-02-24 11:15:36 -0800            NaN  Pacific Time (US & Canada)  \n",
       "4  2015-02-24 11:14:45 -0800            NaN  Pacific Time (US & Canada)  "
      ]
     },
     "execution_count": 4,
     "metadata": {},
     "output_type": "execute_result"
    }
   ],
   "source": [
    "\n",
    "df.head()"
   ]
  },
  {
   "cell_type": "code",
   "execution_count": 5,
   "id": "2045a893",
   "metadata": {},
   "outputs": [
    {
     "data": {
      "text/plain": [
       "tweet_id                            0\n",
       "airline_sentiment                   0\n",
       "airline_sentiment_confidence        0\n",
       "negativereason                   5462\n",
       "negativereason_confidence        4118\n",
       "airline                             0\n",
       "airline_sentiment_gold          14600\n",
       "name                                0\n",
       "negativereason_gold             14608\n",
       "retweet_count                       0\n",
       "text                                0\n",
       "tweet_coord                     13621\n",
       "tweet_created                       0\n",
       "tweet_location                   4733\n",
       "user_timezone                    4820\n",
       "dtype: int64"
      ]
     },
     "execution_count": 5,
     "metadata": {},
     "output_type": "execute_result"
    }
   ],
   "source": [
    "df.isna().sum()"
   ]
  },
  {
   "cell_type": "code",
   "execution_count": 6,
   "id": "8b9eb19f",
   "metadata": {},
   "outputs": [
    {
     "data": {
      "text/plain": [
       "tweet_id                         0.000000\n",
       "airline_sentiment                0.000000\n",
       "airline_sentiment_confidence     0.000000\n",
       "negativereason                  37.308743\n",
       "negativereason_confidence       28.128415\n",
       "airline                          0.000000\n",
       "airline_sentiment_gold          99.726776\n",
       "name                             0.000000\n",
       "negativereason_gold             99.781421\n",
       "retweet_count                    0.000000\n",
       "text                             0.000000\n",
       "tweet_coord                     93.039617\n",
       "tweet_created                    0.000000\n",
       "tweet_location                  32.329235\n",
       "user_timezone                   32.923497\n",
       "dtype: float64"
      ]
     },
     "execution_count": 6,
     "metadata": {},
     "output_type": "execute_result"
    }
   ],
   "source": [
    "(df.isna().sum()/df.shape[0])*100"
   ]
  },
  {
   "cell_type": "code",
   "execution_count": 7,
   "id": "ee29545a",
   "metadata": {},
   "outputs": [
    {
     "data": {
      "text/plain": [
       "(14640, 15)"
      ]
     },
     "execution_count": 7,
     "metadata": {},
     "output_type": "execute_result"
    }
   ],
   "source": [
    "df.shape"
   ]
  },
  {
   "cell_type": "code",
   "execution_count": 8,
   "id": "380fbd52",
   "metadata": {
    "scrolled": true
   },
   "outputs": [
    {
     "name": "stdout",
     "output_type": "stream",
     "text": [
      "<class 'pandas.core.frame.DataFrame'>\n",
      "RangeIndex: 14640 entries, 0 to 14639\n",
      "Data columns (total 15 columns):\n",
      " #   Column                        Non-Null Count  Dtype  \n",
      "---  ------                        --------------  -----  \n",
      " 0   tweet_id                      14640 non-null  int64  \n",
      " 1   airline_sentiment             14640 non-null  object \n",
      " 2   airline_sentiment_confidence  14640 non-null  float64\n",
      " 3   negativereason                9178 non-null   object \n",
      " 4   negativereason_confidence     10522 non-null  float64\n",
      " 5   airline                       14640 non-null  object \n",
      " 6   airline_sentiment_gold        40 non-null     object \n",
      " 7   name                          14640 non-null  object \n",
      " 8   negativereason_gold           32 non-null     object \n",
      " 9   retweet_count                 14640 non-null  int64  \n",
      " 10  text                          14640 non-null  object \n",
      " 11  tweet_coord                   1019 non-null   object \n",
      " 12  tweet_created                 14640 non-null  object \n",
      " 13  tweet_location                9907 non-null   object \n",
      " 14  user_timezone                 9820 non-null   object \n",
      "dtypes: float64(2), int64(2), object(11)\n",
      "memory usage: 1.7+ MB\n"
     ]
    }
   ],
   "source": [
    "df.info()"
   ]
  },
  {
   "cell_type": "code",
   "execution_count": null,
   "id": "585b44b2",
   "metadata": {
    "scrolled": true
   },
   "outputs": [],
   "source": []
  },
  {
   "cell_type": "code",
   "execution_count": null,
   "id": "d7af5924",
   "metadata": {},
   "outputs": [],
   "source": []
  },
  {
   "cell_type": "markdown",
   "id": "13f30933",
   "metadata": {},
   "source": [
    "# DATA CLEANING"
   ]
  },
  {
   "cell_type": "code",
   "execution_count": 9,
   "id": "5b3c61d1",
   "metadata": {},
   "outputs": [],
   "source": [
    "# Unnecessory columns from the data has been excluded\n",
    "\n",
    "# tweet id: Insignificant\n",
    "# airline_sentiment_gold:40 non null values/14640 entries(0.27% of data)\n",
    "# name:Insignificant \n",
    "# neagativereason_gold:32 non null values/14640 entries(0.22% of data)\n",
    "# retweet_count:Insignificant\n",
    "# tweet_coord:Insignificant\n",
    "# tweet_location:Insignificant\n",
    "# user_timezone:Insignificant    \n",
    "    \n",
    "    "
   ]
  },
  {
   "cell_type": "code",
   "execution_count": 10,
   "id": "e1278edb",
   "metadata": {},
   "outputs": [],
   "source": [
    "#droping unwanted columns\n",
    "\n",
    "df.drop([\"tweet_id\",\"airline_sentiment_gold\",\"name\",\"negativereason_gold\",\"retweet_count\",\"tweet_coord\",\"tweet_location\",\"user_timezone\"],axis=1,inplace=True)"
   ]
  },
  {
   "cell_type": "code",
   "execution_count": 11,
   "id": "4fb91911",
   "metadata": {},
   "outputs": [
    {
     "data": {
      "text/plain": [
       "39"
      ]
     },
     "execution_count": 11,
     "metadata": {},
     "output_type": "execute_result"
    }
   ],
   "source": [
    "\n",
    "df.duplicated().sum()"
   ]
  },
  {
   "cell_type": "code",
   "execution_count": 12,
   "id": "0b6049e7",
   "metadata": {},
   "outputs": [],
   "source": [
    "df.drop_duplicates(inplace=True)"
   ]
  },
  {
   "cell_type": "code",
   "execution_count": 13,
   "id": "f4d6b86f",
   "metadata": {},
   "outputs": [
    {
     "data": {
      "text/plain": [
       "0"
      ]
     },
     "execution_count": 13,
     "metadata": {},
     "output_type": "execute_result"
    }
   ],
   "source": [
    "df.duplicated().sum()"
   ]
  },
  {
   "cell_type": "markdown",
   "id": "4643781b",
   "metadata": {},
   "source": [
    "data shape after removing columns"
   ]
  },
  {
   "cell_type": "code",
   "execution_count": 14,
   "id": "35a6f72b",
   "metadata": {},
   "outputs": [
    {
     "data": {
      "text/plain": [
       "(14601, 7)"
      ]
     },
     "execution_count": 14,
     "metadata": {},
     "output_type": "execute_result"
    }
   ],
   "source": [
    "df.shape"
   ]
  },
  {
   "cell_type": "markdown",
   "id": "d28b65f9",
   "metadata": {},
   "source": [
    "# NULL VALUES"
   ]
  },
  {
   "cell_type": "markdown",
   "id": "94a981d7",
   "metadata": {},
   "source": [
    "we have null values in coulumns \"negativereason\" & \"negativereason_confidence \"  but  the replacement will affect the correctness of the data"
   ]
  },
  {
   "cell_type": "code",
   "execution_count": 15,
   "id": "d21567c8",
   "metadata": {
    "scrolled": true
   },
   "outputs": [
    {
     "data": {
      "text/plain": [
       "airline_sentiment                  0\n",
       "airline_sentiment_confidence       0\n",
       "negativereason                  5444\n",
       "negativereason_confidence       4100\n",
       "airline                            0\n",
       "text                               0\n",
       "tweet_created                      0\n",
       "dtype: int64"
      ]
     },
     "execution_count": 15,
     "metadata": {},
     "output_type": "execute_result"
    }
   ],
   "source": [
    "\n",
    "\n",
    "df.isna().sum()"
   ]
  },
  {
   "cell_type": "code",
   "execution_count": 16,
   "id": "aee483a0",
   "metadata": {},
   "outputs": [
    {
     "name": "stdout",
     "output_type": "stream",
     "text": [
      "<class 'pandas.core.frame.DataFrame'>\n",
      "Int64Index: 14601 entries, 0 to 14639\n",
      "Data columns (total 7 columns):\n",
      " #   Column                        Non-Null Count  Dtype  \n",
      "---  ------                        --------------  -----  \n",
      " 0   airline_sentiment             14601 non-null  object \n",
      " 1   airline_sentiment_confidence  14601 non-null  float64\n",
      " 2   negativereason                9157 non-null   object \n",
      " 3   negativereason_confidence     10501 non-null  float64\n",
      " 4   airline                       14601 non-null  object \n",
      " 5   text                          14601 non-null  object \n",
      " 6   tweet_created                 14601 non-null  object \n",
      "dtypes: float64(2), object(5)\n",
      "memory usage: 912.6+ KB\n"
     ]
    }
   ],
   "source": [
    "df.info()"
   ]
  },
  {
   "cell_type": "code",
   "execution_count": 17,
   "id": "dd4cb9f0",
   "metadata": {},
   "outputs": [],
   "source": [
    "#  The mode value for negative reason is Customer Service Issue "
   ]
  },
  {
   "cell_type": "code",
   "execution_count": 18,
   "id": "77c83823",
   "metadata": {},
   "outputs": [
    {
     "data": {
      "text/plain": [
       "Customer Service Issue         2902\n",
       "Late Flight                    1660\n",
       "Can't Tell                     1190\n",
       "Cancelled Flight                843\n",
       "Lost Luggage                    721\n",
       "Bad Flight                      580\n",
       "Flight Booking Problems         529\n",
       "Flight Attendant Complaints     480\n",
       "longlines                       178\n",
       "Damaged Luggage                  74\n",
       "Name: negativereason, dtype: int64"
      ]
     },
     "execution_count": 18,
     "metadata": {},
     "output_type": "execute_result"
    }
   ],
   "source": [
    "df.negativereason.value_counts()"
   ]
  },
  {
   "cell_type": "code",
   "execution_count": null,
   "id": "d7796a8e",
   "metadata": {},
   "outputs": [],
   "source": []
  },
  {
   "cell_type": "markdown",
   "id": "db1eb87f",
   "metadata": {},
   "source": [
    "# CHECKING OUTLIERS IN THE NUMERICAL DATA COLUMNS-\"negativereason_confidence\" AND \"airline_sentiment_confidence\""
   ]
  },
  {
   "cell_type": "code",
   "execution_count": 19,
   "id": "4142993e",
   "metadata": {},
   "outputs": [
    {
     "name": "stderr",
     "output_type": "stream",
     "text": [
      "C:\\Users\\DELL\\anaconda-hari\\lib\\site-packages\\seaborn\\_decorators.py:36: FutureWarning: Pass the following variable as a keyword arg: x. From version 0.12, the only valid positional argument will be `data`, and passing other arguments without an explicit keyword will result in an error or misinterpretation.\n",
      "  warnings.warn(\n"
     ]
    },
    {
     "data": {
      "image/png": "[encoded data removed]",
      "text/plain": [
       "<Figure size 640x480 with 1 Axes>"
      ]
     },
     "metadata": {},
     "output_type": "display_data"
    }
   ],
   "source": [
    "sns.boxplot(df[\"airline_sentiment_confidence\"])\n",
    "plt.title(\"Outliers in airline_sentiment_confidence\")\n",
    "plt.show()"
   ]
  },
  {
   "cell_type": "code",
   "execution_count": 20,
   "id": "72eae5b0",
   "metadata": {},
   "outputs": [
    {
     "name": "stderr",
     "output_type": "stream",
     "text": [
      "C:\\Users\\DELL\\anaconda-hari\\lib\\site-packages\\seaborn\\_decorators.py:36: FutureWarning: Pass the following variable as a keyword arg: x. From version 0.12, the only valid positional argument will be `data`, and passing other arguments without an explicit keyword will result in an error or misinterpretation.\n",
      "  warnings.warn(\n"
     ]
    },
    {
     "data": {
      "image/png": "[encoded data removed]",
      "text/plain": [
       "<Figure size 640x480 with 1 Axes>"
      ]
     },
     "metadata": {},
     "output_type": "display_data"
    }
   ],
   "source": [
    "sns.boxplot(df[\"negativereason_confidence\"])\n",
    "plt.title(\"Outliers in negativereason_confidence\")\n",
    "plt.show()"
   ]
  },
  {
   "cell_type": "markdown",
   "id": "4f19d1c6",
   "metadata": {},
   "source": [
    "# Preprocessing “tweet_created” date"
   ]
  },
  {
   "cell_type": "markdown",
   "id": "dbb19371",
   "metadata": {},
   "source": [
    "tweet_created is in object format need to change it to date format"
   ]
  },
  {
   "cell_type": "code",
   "execution_count": 21,
   "id": "c4acd0e1",
   "metadata": {},
   "outputs": [],
   "source": [
    "df['tweet_created'] = pd.to_datetime(df['tweet_created'])\n"
   ]
  },
  {
   "cell_type": "code",
   "execution_count": 22,
   "id": "32b0ea45",
   "metadata": {},
   "outputs": [
    {
     "name": "stdout",
     "output_type": "stream",
     "text": [
      "<class 'pandas.core.frame.DataFrame'>\n",
      "Int64Index: 14601 entries, 0 to 14639\n",
      "Data columns (total 7 columns):\n",
      " #   Column                        Non-Null Count  Dtype                                 \n",
      "---  ------                        --------------  -----                                 \n",
      " 0   airline_sentiment             14601 non-null  object                                \n",
      " 1   airline_sentiment_confidence  14601 non-null  float64                               \n",
      " 2   negativereason                9157 non-null   object                                \n",
      " 3   negativereason_confidence     10501 non-null  float64                               \n",
      " 4   airline                       14601 non-null  object                                \n",
      " 5   text                          14601 non-null  object                                \n",
      " 6   tweet_created                 14601 non-null  datetime64[ns, pytz.FixedOffset(-480)]\n",
      "dtypes: datetime64[ns, pytz.FixedOffset(-480)](1), float64(2), object(4)\n",
      "memory usage: 912.6+ KB\n"
     ]
    }
   ],
   "source": [
    "df.info()"
   ]
  },
  {
   "cell_type": "code",
   "execution_count": 23,
   "id": "b65a88dd",
   "metadata": {},
   "outputs": [
    {
     "data": {
      "text/plain": [
       "Timestamp('2015-02-16 23:36:05-0800', tz='pytz.FixedOffset(-480)')"
      ]
     },
     "execution_count": 23,
     "metadata": {},
     "output_type": "execute_result"
    }
   ],
   "source": [
    "df['tweet_created'].min()"
   ]
  },
  {
   "cell_type": "code",
   "execution_count": 24,
   "id": "ad940c45",
   "metadata": {},
   "outputs": [
    {
     "data": {
      "text/plain": [
       "Timestamp('2015-02-24 11:53:37-0800', tz='pytz.FixedOffset(-480)')"
      ]
     },
     "execution_count": 24,
     "metadata": {},
     "output_type": "execute_result"
    }
   ],
   "source": [
    "df['tweet_created'].max()"
   ]
  },
  {
   "cell_type": "markdown",
   "id": "dba4f9a0",
   "metadata": {},
   "source": [
    "# saving cleaned file"
   ]
  },
  {
   "cell_type": "code",
   "execution_count": 25,
   "id": "8711eff7",
   "metadata": {},
   "outputs": [],
   "source": [
    "df.to_csv(\"airlinecleand.csv\")"
   ]
  },
  {
   "cell_type": "code",
   "execution_count": 26,
   "id": "2d9e7aa7",
   "metadata": {},
   "outputs": [
    {
     "data": {
      "text/html": [
       "<div>\n",
       "<style scoped>\n",
       "    .dataframe tbody tr th:only-of-type {\n",
       "        vertical-align: middle;\n",
       "    }\n",
       "\n",
       "    .dataframe tbody tr th {\n",
       "        vertical-align: top;\n",
       "    }\n",
       "\n",
       "    .dataframe thead th {\n",
       "        text-align: right;\n",
       "    }\n",
       "</style>\n",
       "<table border=\"1\" class=\"dataframe\">\n",
       "  <thead>\n",
       "    <tr style=\"text-align: right;\">\n",
       "      <th></th>\n",
       "      <th>airline_sentiment</th>\n",
       "      <th>airline_sentiment_confidence</th>\n",
       "      <th>negativereason</th>\n",
       "      <th>negativereason_confidence</th>\n",
       "      <th>airline</th>\n",
       "      <th>text</th>\n",
       "      <th>tweet_created</th>\n",
       "    </tr>\n",
       "  </thead>\n",
       "  <tbody>\n",
       "    <tr>\n",
       "      <th>0</th>\n",
       "      <td>neutral</td>\n",
       "      <td>1.0000</td>\n",
       "      <td>NaN</td>\n",
       "      <td>NaN</td>\n",
       "      <td>Virgin America</td>\n",
       "      <td>@VirginAmerica What @dhepburn said.</td>\n",
       "      <td>2015-02-24 11:35:52-08:00</td>\n",
       "    </tr>\n",
       "    <tr>\n",
       "      <th>1</th>\n",
       "      <td>positive</td>\n",
       "      <td>0.3486</td>\n",
       "      <td>NaN</td>\n",
       "      <td>0.0000</td>\n",
       "      <td>Virgin America</td>\n",
       "      <td>@VirginAmerica plus you've added commercials t...</td>\n",
       "      <td>2015-02-24 11:15:59-08:00</td>\n",
       "    </tr>\n",
       "    <tr>\n",
       "      <th>2</th>\n",
       "      <td>neutral</td>\n",
       "      <td>0.6837</td>\n",
       "      <td>NaN</td>\n",
       "      <td>NaN</td>\n",
       "      <td>Virgin America</td>\n",
       "      <td>@VirginAmerica I didn't today... Must mean I n...</td>\n",
       "      <td>2015-02-24 11:15:48-08:00</td>\n",
       "    </tr>\n",
       "    <tr>\n",
       "      <th>3</th>\n",
       "      <td>negative</td>\n",
       "      <td>1.0000</td>\n",
       "      <td>Bad Flight</td>\n",
       "      <td>0.7033</td>\n",
       "      <td>Virgin America</td>\n",
       "      <td>@VirginAmerica it's really aggressive to blast...</td>\n",
       "      <td>2015-02-24 11:15:36-08:00</td>\n",
       "    </tr>\n",
       "    <tr>\n",
       "      <th>4</th>\n",
       "      <td>negative</td>\n",
       "      <td>1.0000</td>\n",
       "      <td>Can't Tell</td>\n",
       "      <td>1.0000</td>\n",
       "      <td>Virgin America</td>\n",
       "      <td>@VirginAmerica and it's a really big bad thing...</td>\n",
       "      <td>2015-02-24 11:14:45-08:00</td>\n",
       "    </tr>\n",
       "  </tbody>\n",
       "</table>\n",
       "</div>"
      ],
      "text/plain": [
       "  airline_sentiment  airline_sentiment_confidence negativereason  \\\n",
       "0           neutral                        1.0000            NaN   \n",
       "1          positive                        0.3486            NaN   \n",
       "2           neutral                        0.6837            NaN   \n",
       "3          negative                        1.0000     Bad Flight   \n",
       "4          negative                        1.0000     Can't Tell   \n",
       "\n",
       "   negativereason_confidence         airline  \\\n",
       "0                        NaN  Virgin America   \n",
       "1                     0.0000  Virgin America   \n",
       "2                        NaN  Virgin America   \n",
       "3                     0.7033  Virgin America   \n",
       "4                     1.0000  Virgin America   \n",
       "\n",
       "                                                text             tweet_created  \n",
       "0                @VirginAmerica What @dhepburn said. 2015-02-24 11:35:52-08:00  \n",
       "1  @VirginAmerica plus you've added commercials t... 2015-02-24 11:15:59-08:00  \n",
       "2  @VirginAmerica I didn't today... Must mean I n... 2015-02-24 11:15:48-08:00  \n",
       "3  @VirginAmerica it's really aggressive to blast... 2015-02-24 11:15:36-08:00  \n",
       "4  @VirginAmerica and it's a really big bad thing... 2015-02-24 11:14:45-08:00  "
      ]
     },
     "execution_count": 26,
     "metadata": {},
     "output_type": "execute_result"
    }
   ],
   "source": [
    "df.head()"
   ]
  },
  {
   "cell_type": "code",
   "execution_count": null,
   "id": "a25515f0",
   "metadata": {},
   "outputs": [],
   "source": []
  },
  {
   "cell_type": "code",
   "execution_count": 27,
   "id": "2dc1656a",
   "metadata": {
    "scrolled": true
   },
   "outputs": [
    {
     "data": {
      "text/plain": [
       "Customer Service Issue         2902\n",
       "Late Flight                    1660\n",
       "Can't Tell                     1190\n",
       "Cancelled Flight                843\n",
       "Lost Luggage                    721\n",
       "Bad Flight                      580\n",
       "Flight Booking Problems         529\n",
       "Flight Attendant Complaints     480\n",
       "longlines                       178\n",
       "Damaged Luggage                  74\n",
       "Name: negativereason, dtype: int64"
      ]
     },
     "execution_count": 27,
     "metadata": {},
     "output_type": "execute_result"
    }
   ],
   "source": [
    "df.negativereason.value_counts()"
   ]
  },
  {
   "cell_type": "code",
   "execution_count": 28,
   "id": "a3c14965",
   "metadata": {},
   "outputs": [
    {
     "data": {
      "text/plain": [
       "(14601, 7)"
      ]
     },
     "execution_count": 28,
     "metadata": {},
     "output_type": "execute_result"
    }
   ],
   "source": [
    "df.shape"
   ]
  },
  {
   "cell_type": "code",
   "execution_count": 29,
   "id": "aff9e3ae",
   "metadata": {},
   "outputs": [
    {
     "name": "stdout",
     "output_type": "stream",
     "text": [
      "<class 'pandas.core.frame.DataFrame'>\n",
      "Int64Index: 14601 entries, 0 to 14639\n",
      "Data columns (total 7 columns):\n",
      " #   Column                        Non-Null Count  Dtype                                 \n",
      "---  ------                        --------------  -----                                 \n",
      " 0   airline_sentiment             14601 non-null  object                                \n",
      " 1   airline_sentiment_confidence  14601 non-null  float64                               \n",
      " 2   negativereason                9157 non-null   object                                \n",
      " 3   negativereason_confidence     10501 non-null  float64                               \n",
      " 4   airline                       14601 non-null  object                                \n",
      " 5   text                          14601 non-null  object                                \n",
      " 6   tweet_created                 14601 non-null  datetime64[ns, pytz.FixedOffset(-480)]\n",
      "dtypes: datetime64[ns, pytz.FixedOffset(-480)](1), float64(2), object(4)\n",
      "memory usage: 912.6+ KB\n"
     ]
    }
   ],
   "source": [
    "df.info()"
   ]
  },
  {
   "cell_type": "code",
   "execution_count": 30,
   "id": "3937c2a6",
   "metadata": {},
   "outputs": [
    {
     "data": {
      "text/plain": [
       "array([nan, 'Bad Flight', \"Can't Tell\", 'Late Flight',\n",
       "       'Customer Service Issue', 'Flight Booking Problems',\n",
       "       'Lost Luggage', 'Flight Attendant Complaints', 'Cancelled Flight',\n",
       "       'Damaged Luggage', 'longlines'], dtype=object)"
      ]
     },
     "execution_count": 30,
     "metadata": {},
     "output_type": "execute_result"
    }
   ],
   "source": [
    "df.negativereason.unique()"
   ]
  },
  {
   "cell_type": "markdown",
   "id": "cfd68175",
   "metadata": {},
   "source": [
    "# DATA VISUALISATION-EDA"
   ]
  },
  {
   "cell_type": "code",
   "execution_count": null,
   "id": "900b27b8",
   "metadata": {},
   "outputs": [],
   "source": []
  },
  {
   "cell_type": "code",
   "execution_count": null,
   "id": "71a56fcb",
   "metadata": {},
   "outputs": [],
   "source": []
  },
  {
   "cell_type": "markdown",
   "id": "1c45afbb",
   "metadata": {},
   "source": [
    "# counting types of sentiments\n"
   ]
  },
  {
   "cell_type": "code",
   "execution_count": 31,
   "id": "de7ce4ca",
   "metadata": {},
   "outputs": [
    {
     "data": {
      "image/png": "[encoded data removed]",
      "text/plain": [
       "<Figure size 1200x600 with 1 Axes>"
      ]
     },
     "metadata": {},
     "output_type": "display_data"
    }
   ],
   "source": [
    "counter = df.airline_sentiment.value_counts()\n",
    "index = [1,2,3]\n",
    "plt.figure(1,figsize=(12,6))\n",
    "plt.bar(index,counter,color=['green','red','blue'])\n",
    "plt.xticks(index,['negative','neutral','positive'],rotation=0)\n",
    "plt.xlabel('Sentiment Type')\n",
    "plt.ylabel('Sentiment Count')\n",
    "plt.title('Count of Type of Sentiment')\n",
    "plt.show()"
   ]
  },
  {
   "cell_type": "code",
   "execution_count": 32,
   "id": "59f0deb6",
   "metadata": {
    "scrolled": true
   },
   "outputs": [
    {
     "data": {
      "text/plain": [
       "negative    9157\n",
       "neutral     3091\n",
       "positive    2353\n",
       "Name: airline_sentiment, dtype: int64"
      ]
     },
     "execution_count": 32,
     "metadata": {},
     "output_type": "execute_result"
    }
   ],
   "source": [
    "df.airline_sentiment.value_counts()"
   ]
  },
  {
   "cell_type": "markdown",
   "id": "5d1881e4",
   "metadata": {},
   "source": [
    "# Airline sentiments for each airline"
   ]
  },
  {
   "cell_type": "code",
   "execution_count": 33,
   "id": "cd6dac81",
   "metadata": {},
   "outputs": [
    {
     "name": "stdout",
     "output_type": "stream",
     "text": [
      "Total number of tweets for each airline \n",
      "  airline\n",
      "United            3822\n",
      "US Airways        2913\n",
      "American          2720\n",
      "Southwest         2420\n",
      "Delta             2222\n",
      "Virgin America     504\n",
      "Name: airline_sentiment, dtype: int64\n"
     ]
    },
    {
     "data": {
      "image/png": "[encoded data removed]",
      "text/plain": [
       "<Figure size 2000x1200 with 6 Axes>"
      ]
     },
     "metadata": {},
     "output_type": "display_data"
    }
   ],
   "source": [
    "print(\"Total number of tweets for each airline \\n \",df.groupby('airline')['airline_sentiment'].count().sort_values(ascending=False))\n",
    "airlines= ['US Airways','United','American','Southwest','Delta','Virgin America']\n",
    "plt.figure(1,figsize=(20, 12))\n",
    "for i in airlines:\n",
    "    indices= airlines.index(i)\n",
    "    plt.subplot(2,3,indices+1)\n",
    "    new_df=df[df['airline']==i]\n",
    "    count=new_df['airline_sentiment'].value_counts()\n",
    "    Index = [1,2,3]\n",
    "    plt.bar(Index,count, color=['red', 'green', 'blue'])\n",
    "    plt.xticks(Index,['negative','neutral','positive'])\n",
    "    plt.ylabel('Mood Count')\n",
    "    plt.xlabel('Mood')\n",
    "    plt.title('Count of Moods of '+i)"
   ]
  },
  {
   "cell_type": "code",
   "execution_count": 34,
   "id": "6b054cec",
   "metadata": {},
   "outputs": [
    {
     "name": "stderr",
     "output_type": "stream",
     "text": [
      "C:\\Users\\DELL\\anaconda-hari\\lib\\site-packages\\seaborn\\_decorators.py:36: FutureWarning: Pass the following variable as a keyword arg: x. From version 0.12, the only valid positional argument will be `data`, and passing other arguments without an explicit keyword will result in an error or misinterpretation.\n",
      "  warnings.warn(\n"
     ]
    },
    {
     "data": {
      "text/plain": [
       "<AxesSubplot:xlabel='airline', ylabel='count'>"
      ]
     },
     "execution_count": 34,
     "metadata": {},
     "output_type": "execute_result"
    },
    {
     "data": {
      "image/png": "[encoded data removed]",
      "text/plain": [
       "<Figure size 2500x700 with 1 Axes>"
      ]
     },
     "metadata": {},
     "output_type": "display_data"
    }
   ],
   "source": [
    "plt.figure(figsize=(25,7))\n",
    "sns.countplot(df.airline)"
   ]
  },
  {
   "cell_type": "code",
   "execution_count": 35,
   "id": "1e6f19e2",
   "metadata": {},
   "outputs": [],
   "source": [
    "# united has recorded the highest number of reviews\n",
    "#Virgin has the lowest number of reviews"
   ]
  },
  {
   "cell_type": "markdown",
   "id": "a7a1886e",
   "metadata": {},
   "source": [
    "percentage of negative reviews"
   ]
  },
  {
   "cell_type": "code",
   "execution_count": 36,
   "id": "7d88a755",
   "metadata": {},
   "outputs": [
    {
     "name": "stdout",
     "output_type": "stream",
     "text": [
      "            Percent Negative\n",
      "American            0.712868\n",
      "Delta               0.429793\n",
      "Southwest           0.490083\n",
      "US Airways          0.776862\n",
      "United              0.688906\n",
      "Virgin              0.359127\n"
     ]
    },
    {
     "data": {
      "image/png": "[encoded data removed]",
      "text/plain": [
       "<Figure size 1500x600 with 1 Axes>"
      ]
     },
     "metadata": {},
     "output_type": "display_data"
    }
   ],
   "source": [
    "neg_tweets = df.groupby(['airline','airline_sentiment']).count().iloc[:,0]\n",
    "total_tweets = df.groupby(['airline'])['airline_sentiment'].count()\n",
    "\n",
    "my_dict = {'American':neg_tweets[0] / total_tweets[0],'Delta':neg_tweets[3] / total_tweets[1],'Southwest': neg_tweets[6] / total_tweets[2],\n",
    "'US Airways': neg_tweets[9] / total_tweets[3],'United': neg_tweets[12] / total_tweets[4],'Virgin': neg_tweets[15] / total_tweets[5]}\n",
    "perc = pd.DataFrame.from_dict(my_dict, orient = 'index')\n",
    "perc.columns = ['Percent Negative']\n",
    "print(perc)\n",
    "ax = perc.plot(kind = 'bar', rot=0, colormap = 'twilight_shifted_r', figsize = (15,6))\n",
    "ax.set_xlabel('Airlines')\n",
    "ax.set_ylabel('Percentage of negative tweets')\n",
    "plt.show()"
   ]
  },
  {
   "cell_type": "code",
   "execution_count": 37,
   "id": "37aec2dc",
   "metadata": {},
   "outputs": [
    {
     "data": {
      "text/plain": [
       "<AxesSubplot:xlabel='airline'>"
      ]
     },
     "execution_count": 37,
     "metadata": {},
     "output_type": "execute_result"
    },
    {
     "data": {
      "image/png": "[encoded data removed]",
      "text/plain": [
       "<Figure size 1500x1000 with 1 Axes>"
      ]
     },
     "metadata": {},
     "output_type": "display_data"
    }
   ],
   "source": [
    "figure_2 = df.groupby(['airline', 'airline_sentiment']).size()\n",
    "figure_2.unstack().plot(kind='bar', stacked=True, figsize=(15,10))"
   ]
  },
  {
   "cell_type": "code",
   "execution_count": 38,
   "id": "3b276b15",
   "metadata": {},
   "outputs": [
    {
     "name": "stdout",
     "output_type": "stream",
     "text": [
      "airline         airline_sentiment\n",
      "American        negative             1939\n",
      "                neutral               455\n",
      "                positive              326\n",
      "Delta           negative              955\n",
      "                neutral               723\n",
      "                positive              544\n",
      "Southwest       negative             1186\n",
      "                neutral               664\n",
      "                positive              570\n",
      "US Airways      negative             2263\n",
      "                neutral               381\n",
      "                positive              269\n",
      "United          negative             2633\n",
      "                neutral               697\n",
      "                positive              492\n",
      "Virgin America  negative              181\n",
      "                neutral               171\n",
      "                positive              152\n",
      "dtype: int64\n"
     ]
    }
   ],
   "source": [
    "print(figure_2)"
   ]
  },
  {
   "cell_type": "code",
   "execution_count": null,
   "id": "ee10ae30",
   "metadata": {},
   "outputs": [],
   "source": []
  },
  {
   "cell_type": "markdown",
   "id": "e9208990",
   "metadata": {},
   "source": [
    "# Reasons for negative reviews."
   ]
  },
  {
   "cell_type": "code",
   "execution_count": 39,
   "id": "4b67ecce",
   "metadata": {},
   "outputs": [
    {
     "data": {
      "image/png": "[encoded data removed]",
      "text/plain": [
       "<Figure size 2200x1200 with 1 Axes>"
      ]
     },
     "metadata": {},
     "output_type": "display_data"
    }
   ],
   "source": [
    "negative_reasons = df.groupby('airline')['negativereason'].value_counts(ascending=True)\n",
    "negative_reasons.groupby(['airline','negativereason']).sum().unstack().plot(kind='bar',figsize=(22,12))\n",
    "plt.xlabel('Airline Company')\n",
    "plt.ylabel('Number of Negative reasons')\n",
    "plt.title(\"The number of the count of negative reasons for airlines\")\n",
    "plt.show()"
   ]
  },
  {
   "cell_type": "code",
   "execution_count": 40,
   "id": "6ca61c47",
   "metadata": {},
   "outputs": [
    {
     "data": {
      "image/png": "[encoded data removed]",
      "text/plain": [
       "<Figure size 640x480 with 1 Axes>"
      ]
     },
     "metadata": {},
     "output_type": "display_data"
    },
    {
     "data": {
      "image/png": "[encoded data removed]",
      "text/plain": [
       "<Figure size 1300x1300 with 6 Axes>"
      ]
     },
     "metadata": {},
     "output_type": "display_data"
    }
   ],
   "source": [
    "df['negativereason'].nunique()\n",
    "\n",
    "NR_Count=dict(df['negativereason'].value_counts(sort=False))\n",
    "def NR_Count(Airline):\n",
    "    if Airline=='All':\n",
    "        a=df\n",
    "    else:\n",
    "        a=df[df['airline']==Airline]\n",
    "    count=dict(a['negativereason'].value_counts())\n",
    "    Unique_reason=list(df['negativereason'].unique())\n",
    "    Unique_reason=[x for x in Unique_reason if str(x) != 'nan']\n",
    "    Reason_frame=pd.DataFrame({'Reasons':Unique_reason})\n",
    "    Reason_frame['count']=Reason_frame['Reasons'].apply(lambda x: count[x])\n",
    "    return Reason_frame\n",
    "def plot_reason(Airline):\n",
    "    \n",
    "    a=NR_Count(Airline)\n",
    "    count=a['count']\n",
    "    Index = range(1,(len(a)+1))\n",
    "    plt.bar(Index,count, color=['red','yellow','blue','green','black','brown','gray','cyan','purple','orange'])\n",
    "    plt.xticks(Index,a['Reasons'],rotation=90)\n",
    "    plt.ylabel('Count')\n",
    "    plt.xlabel('Reason')\n",
    "    plt.title('Count of Reasons for '+Airline)\n",
    "    \n",
    "plot_reason('All')\n",
    "plt.figure(2,figsize=(13, 13))\n",
    "for i in airlines:\n",
    "    indices= airlines.index(i)\n",
    "    plt.subplot(2,3,indices+1)\n",
    "    plt.subplots_adjust(hspace=0.9)\n",
    "    plot_reason(i)"
   ]
  },
  {
   "cell_type": "code",
   "execution_count": 41,
   "id": "d9caa653",
   "metadata": {},
   "outputs": [],
   "source": [
    "# Customer Service Issue is the main neagtive reason for US Airways,United,American,Southwest,Virgin America\n",
    "# Late Flight is the main negative reason for Delta\n",
    "# Interestingly, Virgin America has the least count of negative reasons (all less than 60)\n",
    "# Contrastingly to Virgin America, airlines like US Airways,United,American have more than 500 negative reasons (Late flight, Customer Service Issue)"
   ]
  },
  {
   "cell_type": "markdown",
   "id": "cc6e0d8d",
   "metadata": {},
   "source": []
  },
  {
   "cell_type": "code",
   "execution_count": null,
   "id": "b4efe228",
   "metadata": {},
   "outputs": [],
   "source": []
  },
  {
   "cell_type": "markdown",
   "id": "4b5d4963",
   "metadata": {},
   "source": []
  },
  {
   "cell_type": "code",
   "execution_count": null,
   "id": "503a1660",
   "metadata": {},
   "outputs": [],
   "source": []
  },
  {
   "cell_type": "code",
   "execution_count": null,
   "id": "bba4f9b0",
   "metadata": {},
   "outputs": [],
   "source": []
  },
  {
   "cell_type": "markdown",
   "id": "8aea29d3",
   "metadata": {},
   "source": []
  },
  {
   "cell_type": "code",
   "execution_count": null,
   "id": "0527c2f3",
   "metadata": {},
   "outputs": [],
   "source": []
  },
  {
   "cell_type": "markdown",
   "id": "95cdef68",
   "metadata": {},
   "source": [
    "# Preprocessing "
   ]
  },
  {
   "cell_type": "markdown",
   "id": "bc6d6cd4",
   "metadata": {},
   "source": [
    "1. tweet text data"
   ]
  },
  {
   "cell_type": "code",
   "execution_count": 42,
   "id": "a14fba88",
   "metadata": {},
   "outputs": [
    {
     "name": "stderr",
     "output_type": "stream",
     "text": [
      "[nltk_data] Error loading stopwords: <urlopen error [WinError 10060] A\n",
      "[nltk_data]     connection attempt failed because the connected party\n",
      "[nltk_data]     did not properly respond after a period of time, or\n",
      "[nltk_data]     established connection failed because connected host\n",
      "[nltk_data]     has failed to respond>\n"
     ]
    },
    {
     "data": {
      "text/plain": [
       "False"
      ]
     },
     "execution_count": 42,
     "metadata": {},
     "output_type": "execute_result"
    }
   ],
   "source": [
    "nltk.download('stopwords')"
   ]
  },
  {
   "cell_type": "code",
   "execution_count": 43,
   "id": "8fe8704f",
   "metadata": {},
   "outputs": [],
   "source": [
    "def tweet_to_words(tweet):\n",
    "    letters_only = re.sub(\"[^a-zA-Z]\", \" \",tweet) \n",
    "    words = letters_only.lower().split()                             \n",
    "    stops = set(stopwords.words(\"english\"))                  \n",
    "    meaningful_words = [w for w in words if not w in stops] \n",
    "    return( \" \".join( meaningful_words ))"
   ]
  },
  {
   "cell_type": "markdown",
   "id": "da0f65a8",
   "metadata": {},
   "source": [
    "1)re.sub(\"[^a-zA-Z]\", \" \", tweet) uses regular expressions to replace all non-letter characters (symbols, numbers, etc.) with a space character. This effectively removes all non-alphabetic characters from the tweet.\n",
    "\n",
    "\n",
    "2).lower() converts all characters in the tweet to lowercase.\n",
    "\n",
    "\n",
    "3).split() splits the tweet into individual words based on whitespace (spaces, tabs, line breaks, etc.).\n",
    "\n",
    "\n",
    "4)set(stopwords.words(\"english\")) loads a set of stopwords for the English language from the Natural Language Toolkit (NLTK) library.\n",
    "\n",
    "5)w for w in words if not w in stops] iterates over all words in the tweet and only keeps those that are not in the stopwords set.\n",
    "\n",
    "\n",
    "6)\" \".join(meaningful_words) joins the remaining words back into a string, separated by a space character."
   ]
  },
  {
   "cell_type": "code",
   "execution_count": null,
   "id": "0bf828c1",
   "metadata": {
    "scrolled": true
   },
   "outputs": [],
   "source": [
    "\n"
   ]
  },
  {
   "cell_type": "code",
   "execution_count": 44,
   "id": "9b52d1a2",
   "metadata": {},
   "outputs": [],
   "source": [
    "df['clean_tweet']=df['text'].apply(lambda x: tweet_to_words(x))"
   ]
  },
  {
   "cell_type": "code",
   "execution_count": 45,
   "id": "827109fe",
   "metadata": {
    "scrolled": true
   },
   "outputs": [
    {
     "data": {
      "text/html": [
       "<div>\n",
       "<style scoped>\n",
       "    .dataframe tbody tr th:only-of-type {\n",
       "        vertical-align: middle;\n",
       "    }\n",
       "\n",
       "    .dataframe tbody tr th {\n",
       "        vertical-align: top;\n",
       "    }\n",
       "\n",
       "    .dataframe thead th {\n",
       "        text-align: right;\n",
       "    }\n",
       "</style>\n",
       "<table border=\"1\" class=\"dataframe\">\n",
       "  <thead>\n",
       "    <tr style=\"text-align: right;\">\n",
       "      <th></th>\n",
       "      <th>airline_sentiment</th>\n",
       "      <th>airline_sentiment_confidence</th>\n",
       "      <th>negativereason</th>\n",
       "      <th>negativereason_confidence</th>\n",
       "      <th>airline</th>\n",
       "      <th>text</th>\n",
       "      <th>tweet_created</th>\n",
       "      <th>clean_tweet</th>\n",
       "    </tr>\n",
       "  </thead>\n",
       "  <tbody>\n",
       "    <tr>\n",
       "      <th>0</th>\n",
       "      <td>neutral</td>\n",
       "      <td>1.0000</td>\n",
       "      <td>NaN</td>\n",
       "      <td>NaN</td>\n",
       "      <td>Virgin America</td>\n",
       "      <td>@VirginAmerica What @dhepburn said.</td>\n",
       "      <td>2015-02-24 11:35:52-08:00</td>\n",
       "      <td>virginamerica dhepburn said</td>\n",
       "    </tr>\n",
       "    <tr>\n",
       "      <th>1</th>\n",
       "      <td>positive</td>\n",
       "      <td>0.3486</td>\n",
       "      <td>NaN</td>\n",
       "      <td>0.0000</td>\n",
       "      <td>Virgin America</td>\n",
       "      <td>@VirginAmerica plus you've added commercials t...</td>\n",
       "      <td>2015-02-24 11:15:59-08:00</td>\n",
       "      <td>virginamerica plus added commercials experienc...</td>\n",
       "    </tr>\n",
       "    <tr>\n",
       "      <th>2</th>\n",
       "      <td>neutral</td>\n",
       "      <td>0.6837</td>\n",
       "      <td>NaN</td>\n",
       "      <td>NaN</td>\n",
       "      <td>Virgin America</td>\n",
       "      <td>@VirginAmerica I didn't today... Must mean I n...</td>\n",
       "      <td>2015-02-24 11:15:48-08:00</td>\n",
       "      <td>virginamerica today must mean need take anothe...</td>\n",
       "    </tr>\n",
       "    <tr>\n",
       "      <th>3</th>\n",
       "      <td>negative</td>\n",
       "      <td>1.0000</td>\n",
       "      <td>Bad Flight</td>\n",
       "      <td>0.7033</td>\n",
       "      <td>Virgin America</td>\n",
       "      <td>@VirginAmerica it's really aggressive to blast...</td>\n",
       "      <td>2015-02-24 11:15:36-08:00</td>\n",
       "      <td>virginamerica really aggressive blast obnoxiou...</td>\n",
       "    </tr>\n",
       "    <tr>\n",
       "      <th>4</th>\n",
       "      <td>negative</td>\n",
       "      <td>1.0000</td>\n",
       "      <td>Can't Tell</td>\n",
       "      <td>1.0000</td>\n",
       "      <td>Virgin America</td>\n",
       "      <td>@VirginAmerica and it's a really big bad thing...</td>\n",
       "      <td>2015-02-24 11:14:45-08:00</td>\n",
       "      <td>virginamerica really big bad thing</td>\n",
       "    </tr>\n",
       "  </tbody>\n",
       "</table>\n",
       "</div>"
      ],
      "text/plain": [
       "  airline_sentiment  airline_sentiment_confidence negativereason  \\\n",
       "0           neutral                        1.0000            NaN   \n",
       "1          positive                        0.3486            NaN   \n",
       "2           neutral                        0.6837            NaN   \n",
       "3          negative                        1.0000     Bad Flight   \n",
       "4          negative                        1.0000     Can't Tell   \n",
       "\n",
       "   negativereason_confidence         airline  \\\n",
       "0                        NaN  Virgin America   \n",
       "1                     0.0000  Virgin America   \n",
       "2                        NaN  Virgin America   \n",
       "3                     0.7033  Virgin America   \n",
       "4                     1.0000  Virgin America   \n",
       "\n",
       "                                                text  \\\n",
       "0                @VirginAmerica What @dhepburn said.   \n",
       "1  @VirginAmerica plus you've added commercials t...   \n",
       "2  @VirginAmerica I didn't today... Must mean I n...   \n",
       "3  @VirginAmerica it's really aggressive to blast...   \n",
       "4  @VirginAmerica and it's a really big bad thing...   \n",
       "\n",
       "              tweet_created                                        clean_tweet  \n",
       "0 2015-02-24 11:35:52-08:00                        virginamerica dhepburn said  \n",
       "1 2015-02-24 11:15:59-08:00  virginamerica plus added commercials experienc...  \n",
       "2 2015-02-24 11:15:48-08:00  virginamerica today must mean need take anothe...  \n",
       "3 2015-02-24 11:15:36-08:00  virginamerica really aggressive blast obnoxiou...  \n",
       "4 2015-02-24 11:14:45-08:00                 virginamerica really big bad thing  "
      ]
     },
     "execution_count": 45,
     "metadata": {},
     "output_type": "execute_result"
    }
   ],
   "source": [
    "df.head()"
   ]
  },
  {
   "cell_type": "code",
   "execution_count": 46,
   "id": "f2a6774d",
   "metadata": {},
   "outputs": [],
   "source": [
    "from sklearn.preprocessing import LabelEncoder\n",
    "\n",
    "le = LabelEncoder()\n",
    "le.fit(df['airline_sentiment'])\n",
    "\n",
    "df['airline_sentiment_encoded'] = le.transform(df['airline_sentiment'])\n",
    "\n",
    "le.fit(df[\"clean_tweet\"])\n",
    "df[\"tweet_encoded\"]=le.transform(df[\"clean_tweet\"])\n"
   ]
  },
  {
   "cell_type": "markdown",
   "id": "6c9ced2a",
   "metadata": {},
   "source": [
    "# MACHINE LEARNING MODELS"
   ]
  },
  {
   "cell_type": "markdown",
   "id": "0f0ad797",
   "metadata": {},
   "source": [
    "# Support vector Machine"
   ]
  },
  {
   "cell_type": "code",
   "execution_count": 47,
   "id": "833b84ae",
   "metadata": {},
   "outputs": [
    {
     "name": "stdout",
     "output_type": "stream",
     "text": [
      "14601 14601\n"
     ]
    }
   ],
   "source": [
    "x = df.clean_tweet\n",
    "y = df.airline_sentiment_encoded\n",
    "\n",
    "print(len(x), len(y))"
   ]
  },
  {
   "cell_type": "code",
   "execution_count": 48,
   "id": "c0381e19",
   "metadata": {},
   "outputs": [
    {
     "data": {
      "text/plain": [
       "0    9157\n",
       "1    3091\n",
       "2    2353\n",
       "Name: airline_sentiment_encoded, dtype: int64"
      ]
     },
     "execution_count": 48,
     "metadata": {},
     "output_type": "execute_result"
    }
   ],
   "source": [
    "y.value_counts()"
   ]
  },
  {
   "cell_type": "markdown",
   "id": "ac1fd3b1",
   "metadata": {},
   "source": [
    "The data is not balanced if i apply the balancing with imb learn  requires 2D array data.  So can not apply the SVM.since v vectorisation is not possible To take care ofit creating four combination of data based on airline sentiment.\n",
    "\n",
    "that is \n",
    "\n",
    "1. Data frame   containing positive and negative= dfn\n",
    "\n",
    "2.Data frame containing positive and neutral=dfpn\n",
    "\n",
    "3.Data frame containing  neagative and neutral=dfnn\n",
    "\n",
    "4 The orginal data frame=df"
   ]
  },
  {
   "cell_type": "code",
   "execution_count": 49,
   "id": "101838f6",
   "metadata": {},
   "outputs": [],
   "source": [
    "dfn=df.drop(df.loc[df['airline_sentiment']=='neutral'].index)"
   ]
  },
  {
   "cell_type": "code",
   "execution_count": null,
   "id": "5bd121c1",
   "metadata": {},
   "outputs": [],
   "source": []
  },
  {
   "cell_type": "code",
   "execution_count": 50,
   "id": "36c1441d",
   "metadata": {},
   "outputs": [],
   "source": [
    "dfpn=df.drop(df.loc[df['airline_sentiment']=='negative'].index)"
   ]
  },
  {
   "cell_type": "code",
   "execution_count": null,
   "id": "3f8dbcec",
   "metadata": {},
   "outputs": [],
   "source": []
  },
  {
   "cell_type": "code",
   "execution_count": 51,
   "id": "8dff240d",
   "metadata": {},
   "outputs": [],
   "source": [
    "dfnn=df.drop(df.loc[df['airline_sentiment']=='positive'].index)\n"
   ]
  },
  {
   "cell_type": "markdown",
   "id": "13bbd445",
   "metadata": {},
   "source": [
    "DFN=Data frame   containing positive and negative"
   ]
  },
  {
   "cell_type": "code",
   "execution_count": 52,
   "id": "71610bd5",
   "metadata": {},
   "outputs": [
    {
     "data": {
      "text/html": [
       "<div>\n",
       "<style scoped>\n",
       "    .dataframe tbody tr th:only-of-type {\n",
       "        vertical-align: middle;\n",
       "    }\n",
       "\n",
       "    .dataframe tbody tr th {\n",
       "        vertical-align: top;\n",
       "    }\n",
       "\n",
       "    .dataframe thead th {\n",
       "        text-align: right;\n",
       "    }\n",
       "</style>\n",
       "<table border=\"1\" class=\"dataframe\">\n",
       "  <thead>\n",
       "    <tr style=\"text-align: right;\">\n",
       "      <th></th>\n",
       "      <th>airline_sentiment</th>\n",
       "      <th>airline_sentiment_confidence</th>\n",
       "      <th>negativereason</th>\n",
       "      <th>negativereason_confidence</th>\n",
       "      <th>airline</th>\n",
       "      <th>text</th>\n",
       "      <th>tweet_created</th>\n",
       "      <th>clean_tweet</th>\n",
       "      <th>airline_sentiment_encoded</th>\n",
       "      <th>tweet_encoded</th>\n",
       "    </tr>\n",
       "  </thead>\n",
       "  <tbody>\n",
       "    <tr>\n",
       "      <th>1</th>\n",
       "      <td>positive</td>\n",
       "      <td>0.3486</td>\n",
       "      <td>NaN</td>\n",
       "      <td>0.0000</td>\n",
       "      <td>Virgin America</td>\n",
       "      <td>@VirginAmerica plus you've added commercials t...</td>\n",
       "      <td>2015-02-24 11:15:59-08:00</td>\n",
       "      <td>virginamerica plus added commercials experienc...</td>\n",
       "      <td>2</td>\n",
       "      <td>14097</td>\n",
       "    </tr>\n",
       "    <tr>\n",
       "      <th>3</th>\n",
       "      <td>negative</td>\n",
       "      <td>1.0000</td>\n",
       "      <td>Bad Flight</td>\n",
       "      <td>0.7033</td>\n",
       "      <td>Virgin America</td>\n",
       "      <td>@VirginAmerica it's really aggressive to blast...</td>\n",
       "      <td>2015-02-24 11:15:36-08:00</td>\n",
       "      <td>virginamerica really aggressive blast obnoxiou...</td>\n",
       "      <td>0</td>\n",
       "      <td>14113</td>\n",
       "    </tr>\n",
       "    <tr>\n",
       "      <th>4</th>\n",
       "      <td>negative</td>\n",
       "      <td>1.0000</td>\n",
       "      <td>Can't Tell</td>\n",
       "      <td>1.0000</td>\n",
       "      <td>Virgin America</td>\n",
       "      <td>@VirginAmerica and it's a really big bad thing...</td>\n",
       "      <td>2015-02-24 11:14:45-08:00</td>\n",
       "      <td>virginamerica really big bad thing</td>\n",
       "      <td>0</td>\n",
       "      <td>14114</td>\n",
       "    </tr>\n",
       "    <tr>\n",
       "      <th>5</th>\n",
       "      <td>negative</td>\n",
       "      <td>1.0000</td>\n",
       "      <td>Can't Tell</td>\n",
       "      <td>0.6842</td>\n",
       "      <td>Virgin America</td>\n",
       "      <td>@VirginAmerica seriously would pay $30 a fligh...</td>\n",
       "      <td>2015-02-24 11:14:33-08:00</td>\n",
       "      <td>virginamerica seriously would pay flight seats...</td>\n",
       "      <td>0</td>\n",
       "      <td>14139</td>\n",
       "    </tr>\n",
       "    <tr>\n",
       "      <th>6</th>\n",
       "      <td>positive</td>\n",
       "      <td>0.6745</td>\n",
       "      <td>NaN</td>\n",
       "      <td>0.0000</td>\n",
       "      <td>Virgin America</td>\n",
       "      <td>@VirginAmerica yes, nearly every time I fly VX...</td>\n",
       "      <td>2015-02-24 11:13:57-08:00</td>\n",
       "      <td>virginamerica yes nearly every time fly vx ear...</td>\n",
       "      <td>2</td>\n",
       "      <td>14255</td>\n",
       "    </tr>\n",
       "  </tbody>\n",
       "</table>\n",
       "</div>"
      ],
      "text/plain": [
       "  airline_sentiment  airline_sentiment_confidence negativereason  \\\n",
       "1          positive                        0.3486            NaN   \n",
       "3          negative                        1.0000     Bad Flight   \n",
       "4          negative                        1.0000     Can't Tell   \n",
       "5          negative                        1.0000     Can't Tell   \n",
       "6          positive                        0.6745            NaN   \n",
       "\n",
       "   negativereason_confidence         airline  \\\n",
       "1                     0.0000  Virgin America   \n",
       "3                     0.7033  Virgin America   \n",
       "4                     1.0000  Virgin America   \n",
       "5                     0.6842  Virgin America   \n",
       "6                     0.0000  Virgin America   \n",
       "\n",
       "                                                text  \\\n",
       "1  @VirginAmerica plus you've added commercials t...   \n",
       "3  @VirginAmerica it's really aggressive to blast...   \n",
       "4  @VirginAmerica and it's a really big bad thing...   \n",
       "5  @VirginAmerica seriously would pay $30 a fligh...   \n",
       "6  @VirginAmerica yes, nearly every time I fly VX...   \n",
       "\n",
       "              tweet_created  \\\n",
       "1 2015-02-24 11:15:59-08:00   \n",
       "3 2015-02-24 11:15:36-08:00   \n",
       "4 2015-02-24 11:14:45-08:00   \n",
       "5 2015-02-24 11:14:33-08:00   \n",
       "6 2015-02-24 11:13:57-08:00   \n",
       "\n",
       "                                         clean_tweet  \\\n",
       "1  virginamerica plus added commercials experienc...   \n",
       "3  virginamerica really aggressive blast obnoxiou...   \n",
       "4                 virginamerica really big bad thing   \n",
       "5  virginamerica seriously would pay flight seats...   \n",
       "6  virginamerica yes nearly every time fly vx ear...   \n",
       "\n",
       "   airline_sentiment_encoded  tweet_encoded  \n",
       "1                          2          14097  \n",
       "3                          0          14113  \n",
       "4                          0          14114  \n",
       "5                          0          14139  \n",
       "6                          2          14255  "
      ]
     },
     "execution_count": 52,
     "metadata": {},
     "output_type": "execute_result"
    }
   ],
   "source": [
    "dfn.head()"
   ]
  },
  {
   "cell_type": "code",
   "execution_count": 53,
   "id": "cad79beb",
   "metadata": {},
   "outputs": [],
   "source": [
    "xfn = dfn.clean_tweet\n",
    "yfn = dfn.airline_sentiment\n"
   ]
  },
  {
   "cell_type": "code",
   "execution_count": 54,
   "id": "ea82bf3b",
   "metadata": {},
   "outputs": [],
   "source": [
    "xfn_train, xfn_test, yfn_train, yfn_test = train_test_split(xfn, yfn, random_state=42,test_size=.2)"
   ]
  },
  {
   "cell_type": "code",
   "execution_count": 55,
   "id": "87af86da",
   "metadata": {},
   "outputs": [],
   "source": [
    "from sklearn.feature_extraction.text import CountVectorizer\n"
   ]
  },
  {
   "cell_type": "code",
   "execution_count": 56,
   "id": "74daad37",
   "metadata": {},
   "outputs": [
    {
     "data": {
      "text/plain": [
       "CountVectorizer()"
      ]
     },
     "execution_count": 56,
     "metadata": {},
     "output_type": "execute_result"
    }
   ],
   "source": [
    "vectfn = CountVectorizer()\n",
    "vectfn.fit(xfn_train)"
   ]
  },
  {
   "cell_type": "code",
   "execution_count": 57,
   "id": "d9d84c94",
   "metadata": {},
   "outputs": [],
   "source": [
    "xfn_train_dtm = vectfn.transform(xfn_train)\n",
    "xfn_test_dtm = vectfn.transform(xfn_test)"
   ]
  },
  {
   "cell_type": "code",
   "execution_count": 58,
   "id": "1d9464b7",
   "metadata": {},
   "outputs": [
    {
     "data": {
      "text/plain": [
       "SVC(kernel='linear', random_state=10)"
      ]
     },
     "execution_count": 58,
     "metadata": {},
     "output_type": "execute_result"
    }
   ],
   "source": [
    "from sklearn.svm import SVC\n",
    "modelfn = SVC(kernel='linear', random_state = 10,decision_function_shape='ovr')\n",
    "modelfn.fit(xfn_train_dtm, yfn_train)"
   ]
  },
  {
   "cell_type": "code",
   "execution_count": 59,
   "id": "12b7e99b",
   "metadata": {},
   "outputs": [],
   "source": [
    "predfn = modelfn.predict(xfn_test_dtm)"
   ]
  },
  {
   "cell_type": "code",
   "execution_count": 60,
   "id": "647f7f6d",
   "metadata": {},
   "outputs": [
    {
     "data": {
      "text/plain": [
       "0.9096437880104257"
      ]
     },
     "execution_count": 60,
     "metadata": {},
     "output_type": "execute_result"
    }
   ],
   "source": [
    "#accuracy score\n",
    "accuracy_score(yfn_test,predfn)"
   ]
  },
  {
   "cell_type": "code",
   "execution_count": 61,
   "id": "86729b4f",
   "metadata": {},
   "outputs": [
    {
     "data": {
      "text/plain": [
       "array([[1758,   86],\n",
       "       [ 122,  336]], dtype=int64)"
      ]
     },
     "execution_count": 61,
     "metadata": {},
     "output_type": "execute_result"
    }
   ],
   "source": [
    "#building confusion matrix\n",
    "cmfn = confusion_matrix(yfn_test, predfn)\n",
    "cmfn"
   ]
  },
  {
   "cell_type": "code",
   "execution_count": 62,
   "id": "d510a5a4",
   "metadata": {},
   "outputs": [
    {
     "name": "stdout",
     "output_type": "stream",
     "text": [
      "              precision    recall  f1-score   support\n",
      "\n",
      "    negative       0.94      0.95      0.94      1844\n",
      "    positive       0.80      0.73      0.76       458\n",
      "\n",
      "    accuracy                           0.91      2302\n",
      "   macro avg       0.87      0.84      0.85      2302\n",
      "weighted avg       0.91      0.91      0.91      2302\n",
      "\n"
     ]
    }
   ],
   "source": [
    "print(classification_report(yfn_test,predfn))"
   ]
  },
  {
   "cell_type": "markdown",
   "id": "016eaa71",
   "metadata": {},
   "source": [
    "DFPN=Data frame containing positive and neutral"
   ]
  },
  {
   "cell_type": "code",
   "execution_count": 63,
   "id": "ecf0634d",
   "metadata": {},
   "outputs": [
    {
     "data": {
      "text/html": [
       "<div>\n",
       "<style scoped>\n",
       "    .dataframe tbody tr th:only-of-type {\n",
       "        vertical-align: middle;\n",
       "    }\n",
       "\n",
       "    .dataframe tbody tr th {\n",
       "        vertical-align: top;\n",
       "    }\n",
       "\n",
       "    .dataframe thead th {\n",
       "        text-align: right;\n",
       "    }\n",
       "</style>\n",
       "<table border=\"1\" class=\"dataframe\">\n",
       "  <thead>\n",
       "    <tr style=\"text-align: right;\">\n",
       "      <th></th>\n",
       "      <th>airline_sentiment</th>\n",
       "      <th>airline_sentiment_confidence</th>\n",
       "      <th>negativereason</th>\n",
       "      <th>negativereason_confidence</th>\n",
       "      <th>airline</th>\n",
       "      <th>text</th>\n",
       "      <th>tweet_created</th>\n",
       "      <th>clean_tweet</th>\n",
       "      <th>airline_sentiment_encoded</th>\n",
       "      <th>tweet_encoded</th>\n",
       "    </tr>\n",
       "  </thead>\n",
       "  <tbody>\n",
       "    <tr>\n",
       "      <th>0</th>\n",
       "      <td>neutral</td>\n",
       "      <td>1.0000</td>\n",
       "      <td>NaN</td>\n",
       "      <td>NaN</td>\n",
       "      <td>Virgin America</td>\n",
       "      <td>@VirginAmerica What @dhepburn said.</td>\n",
       "      <td>2015-02-24 11:35:52-08:00</td>\n",
       "      <td>virginamerica dhepburn said</td>\n",
       "      <td>1</td>\n",
       "      <td>13861</td>\n",
       "    </tr>\n",
       "    <tr>\n",
       "      <th>1</th>\n",
       "      <td>positive</td>\n",
       "      <td>0.3486</td>\n",
       "      <td>NaN</td>\n",
       "      <td>0.0</td>\n",
       "      <td>Virgin America</td>\n",
       "      <td>@VirginAmerica plus you've added commercials t...</td>\n",
       "      <td>2015-02-24 11:15:59-08:00</td>\n",
       "      <td>virginamerica plus added commercials experienc...</td>\n",
       "      <td>2</td>\n",
       "      <td>14097</td>\n",
       "    </tr>\n",
       "    <tr>\n",
       "      <th>2</th>\n",
       "      <td>neutral</td>\n",
       "      <td>0.6837</td>\n",
       "      <td>NaN</td>\n",
       "      <td>NaN</td>\n",
       "      <td>Virgin America</td>\n",
       "      <td>@VirginAmerica I didn't today... Must mean I n...</td>\n",
       "      <td>2015-02-24 11:15:48-08:00</td>\n",
       "      <td>virginamerica today must mean need take anothe...</td>\n",
       "      <td>1</td>\n",
       "      <td>14199</td>\n",
       "    </tr>\n",
       "    <tr>\n",
       "      <th>6</th>\n",
       "      <td>positive</td>\n",
       "      <td>0.6745</td>\n",
       "      <td>NaN</td>\n",
       "      <td>0.0</td>\n",
       "      <td>Virgin America</td>\n",
       "      <td>@VirginAmerica yes, nearly every time I fly VX...</td>\n",
       "      <td>2015-02-24 11:13:57-08:00</td>\n",
       "      <td>virginamerica yes nearly every time fly vx ear...</td>\n",
       "      <td>2</td>\n",
       "      <td>14255</td>\n",
       "    </tr>\n",
       "    <tr>\n",
       "      <th>7</th>\n",
       "      <td>neutral</td>\n",
       "      <td>0.6340</td>\n",
       "      <td>NaN</td>\n",
       "      <td>NaN</td>\n",
       "      <td>Virgin America</td>\n",
       "      <td>@VirginAmerica Really missed a prime opportuni...</td>\n",
       "      <td>2015-02-24 11:12:29-08:00</td>\n",
       "      <td>virginamerica really missed prime opportunity ...</td>\n",
       "      <td>1</td>\n",
       "      <td>14117</td>\n",
       "    </tr>\n",
       "  </tbody>\n",
       "</table>\n",
       "</div>"
      ],
      "text/plain": [
       "  airline_sentiment  airline_sentiment_confidence negativereason  \\\n",
       "0           neutral                        1.0000            NaN   \n",
       "1          positive                        0.3486            NaN   \n",
       "2           neutral                        0.6837            NaN   \n",
       "6          positive                        0.6745            NaN   \n",
       "7           neutral                        0.6340            NaN   \n",
       "\n",
       "   negativereason_confidence         airline  \\\n",
       "0                        NaN  Virgin America   \n",
       "1                        0.0  Virgin America   \n",
       "2                        NaN  Virgin America   \n",
       "6                        0.0  Virgin America   \n",
       "7                        NaN  Virgin America   \n",
       "\n",
       "                                                text  \\\n",
       "0                @VirginAmerica What @dhepburn said.   \n",
       "1  @VirginAmerica plus you've added commercials t...   \n",
       "2  @VirginAmerica I didn't today... Must mean I n...   \n",
       "6  @VirginAmerica yes, nearly every time I fly VX...   \n",
       "7  @VirginAmerica Really missed a prime opportuni...   \n",
       "\n",
       "              tweet_created  \\\n",
       "0 2015-02-24 11:35:52-08:00   \n",
       "1 2015-02-24 11:15:59-08:00   \n",
       "2 2015-02-24 11:15:48-08:00   \n",
       "6 2015-02-24 11:13:57-08:00   \n",
       "7 2015-02-24 11:12:29-08:00   \n",
       "\n",
       "                                         clean_tweet  \\\n",
       "0                        virginamerica dhepburn said   \n",
       "1  virginamerica plus added commercials experienc...   \n",
       "2  virginamerica today must mean need take anothe...   \n",
       "6  virginamerica yes nearly every time fly vx ear...   \n",
       "7  virginamerica really missed prime opportunity ...   \n",
       "\n",
       "   airline_sentiment_encoded  tweet_encoded  \n",
       "0                          1          13861  \n",
       "1                          2          14097  \n",
       "2                          1          14199  \n",
       "6                          2          14255  \n",
       "7                          1          14117  "
      ]
     },
     "execution_count": 63,
     "metadata": {},
     "output_type": "execute_result"
    }
   ],
   "source": [
    "dfpn.head()"
   ]
  },
  {
   "cell_type": "code",
   "execution_count": 64,
   "id": "51ae5331",
   "metadata": {},
   "outputs": [],
   "source": [
    "xfpn = dfpn.clean_tweet\n",
    "yfpn = dfpn.airline_sentiment\n"
   ]
  },
  {
   "cell_type": "code",
   "execution_count": 65,
   "id": "7cccd6eb",
   "metadata": {},
   "outputs": [],
   "source": [
    "xfpn_train, xfpn_test, yfpn_train, yfpn_test = train_test_split(xfpn, yfpn, random_state=42,test_size=.2,)"
   ]
  },
  {
   "cell_type": "code",
   "execution_count": 66,
   "id": "b5d8aa96",
   "metadata": {},
   "outputs": [
    {
     "data": {
      "text/plain": [
       "CountVectorizer()"
      ]
     },
     "execution_count": 66,
     "metadata": {},
     "output_type": "execute_result"
    }
   ],
   "source": [
    "vectfpn = CountVectorizer()\n",
    "vectfpn.fit(xfpn_train)"
   ]
  },
  {
   "cell_type": "code",
   "execution_count": 67,
   "id": "c24f3737",
   "metadata": {},
   "outputs": [],
   "source": [
    "xfpn_train_dtm = vectfpn.transform(xfpn_train)\n",
    "xfpn_test_dtm = vectfpn.transform(xfpn_test)"
   ]
  },
  {
   "cell_type": "code",
   "execution_count": 68,
   "id": "8396dc61",
   "metadata": {},
   "outputs": [
    {
     "data": {
      "text/plain": [
       "SVC(kernel='linear', random_state=10)"
      ]
     },
     "execution_count": 68,
     "metadata": {},
     "output_type": "execute_result"
    }
   ],
   "source": [
    "modelfpn = SVC(kernel='linear', random_state = 10,decision_function_shape='ovr')\n",
    "modelfpn.fit(xfpn_train_dtm, yfpn_train)"
   ]
  },
  {
   "cell_type": "code",
   "execution_count": 69,
   "id": "1f85e19b",
   "metadata": {},
   "outputs": [],
   "source": [
    "predfpn = modelfpn.predict(xfpn_test_dtm)"
   ]
  },
  {
   "cell_type": "code",
   "execution_count": 70,
   "id": "d8fd359e",
   "metadata": {},
   "outputs": [
    {
     "data": {
      "text/plain": [
       "0.8154269972451791"
      ]
     },
     "execution_count": 70,
     "metadata": {},
     "output_type": "execute_result"
    }
   ],
   "source": [
    "#accuracy score\n",
    "accuracy_score(yfpn_test,predfpn)"
   ]
  },
  {
   "cell_type": "code",
   "execution_count": 71,
   "id": "076c484b",
   "metadata": {},
   "outputs": [
    {
     "data": {
      "text/plain": [
       "array([[521,  91],\n",
       "       [110, 367]], dtype=int64)"
      ]
     },
     "execution_count": 71,
     "metadata": {},
     "output_type": "execute_result"
    }
   ],
   "source": [
    "cmfpn = confusion_matrix(yfpn_test, predfpn)\n",
    "cmfpn"
   ]
  },
  {
   "cell_type": "code",
   "execution_count": 72,
   "id": "48e5d32a",
   "metadata": {},
   "outputs": [
    {
     "name": "stdout",
     "output_type": "stream",
     "text": [
      "              precision    recall  f1-score   support\n",
      "\n",
      "     neutral       0.83      0.85      0.84       612\n",
      "    positive       0.80      0.77      0.79       477\n",
      "\n",
      "    accuracy                           0.82      1089\n",
      "   macro avg       0.81      0.81      0.81      1089\n",
      "weighted avg       0.82      0.82      0.81      1089\n",
      "\n"
     ]
    }
   ],
   "source": [
    "print(classification_report(yfpn_test,predfpn))"
   ]
  },
  {
   "cell_type": "markdown",
   "id": "b1616c36",
   "metadata": {},
   "source": [
    "DFNN=Data frame containg  neagative and neutral"
   ]
  },
  {
   "cell_type": "code",
   "execution_count": 73,
   "id": "d63e2235",
   "metadata": {},
   "outputs": [
    {
     "data": {
      "text/html": [
       "<div>\n",
       "<style scoped>\n",
       "    .dataframe tbody tr th:only-of-type {\n",
       "        vertical-align: middle;\n",
       "    }\n",
       "\n",
       "    .dataframe tbody tr th {\n",
       "        vertical-align: top;\n",
       "    }\n",
       "\n",
       "    .dataframe thead th {\n",
       "        text-align: right;\n",
       "    }\n",
       "</style>\n",
       "<table border=\"1\" class=\"dataframe\">\n",
       "  <thead>\n",
       "    <tr style=\"text-align: right;\">\n",
       "      <th></th>\n",
       "      <th>airline_sentiment</th>\n",
       "      <th>airline_sentiment_confidence</th>\n",
       "      <th>negativereason</th>\n",
       "      <th>negativereason_confidence</th>\n",
       "      <th>airline</th>\n",
       "      <th>text</th>\n",
       "      <th>tweet_created</th>\n",
       "      <th>clean_tweet</th>\n",
       "      <th>airline_sentiment_encoded</th>\n",
       "      <th>tweet_encoded</th>\n",
       "    </tr>\n",
       "  </thead>\n",
       "  <tbody>\n",
       "    <tr>\n",
       "      <th>0</th>\n",
       "      <td>neutral</td>\n",
       "      <td>1.0000</td>\n",
       "      <td>NaN</td>\n",
       "      <td>NaN</td>\n",
       "      <td>Virgin America</td>\n",
       "      <td>@VirginAmerica What @dhepburn said.</td>\n",
       "      <td>2015-02-24 11:35:52-08:00</td>\n",
       "      <td>virginamerica dhepburn said</td>\n",
       "      <td>1</td>\n",
       "      <td>13861</td>\n",
       "    </tr>\n",
       "    <tr>\n",
       "      <th>2</th>\n",
       "      <td>neutral</td>\n",
       "      <td>0.6837</td>\n",
       "      <td>NaN</td>\n",
       "      <td>NaN</td>\n",
       "      <td>Virgin America</td>\n",
       "      <td>@VirginAmerica I didn't today... Must mean I n...</td>\n",
       "      <td>2015-02-24 11:15:48-08:00</td>\n",
       "      <td>virginamerica today must mean need take anothe...</td>\n",
       "      <td>1</td>\n",
       "      <td>14199</td>\n",
       "    </tr>\n",
       "    <tr>\n",
       "      <th>3</th>\n",
       "      <td>negative</td>\n",
       "      <td>1.0000</td>\n",
       "      <td>Bad Flight</td>\n",
       "      <td>0.7033</td>\n",
       "      <td>Virgin America</td>\n",
       "      <td>@VirginAmerica it's really aggressive to blast...</td>\n",
       "      <td>2015-02-24 11:15:36-08:00</td>\n",
       "      <td>virginamerica really aggressive blast obnoxiou...</td>\n",
       "      <td>0</td>\n",
       "      <td>14113</td>\n",
       "    </tr>\n",
       "    <tr>\n",
       "      <th>4</th>\n",
       "      <td>negative</td>\n",
       "      <td>1.0000</td>\n",
       "      <td>Can't Tell</td>\n",
       "      <td>1.0000</td>\n",
       "      <td>Virgin America</td>\n",
       "      <td>@VirginAmerica and it's a really big bad thing...</td>\n",
       "      <td>2015-02-24 11:14:45-08:00</td>\n",
       "      <td>virginamerica really big bad thing</td>\n",
       "      <td>0</td>\n",
       "      <td>14114</td>\n",
       "    </tr>\n",
       "    <tr>\n",
       "      <th>5</th>\n",
       "      <td>negative</td>\n",
       "      <td>1.0000</td>\n",
       "      <td>Can't Tell</td>\n",
       "      <td>0.6842</td>\n",
       "      <td>Virgin America</td>\n",
       "      <td>@VirginAmerica seriously would pay $30 a fligh...</td>\n",
       "      <td>2015-02-24 11:14:33-08:00</td>\n",
       "      <td>virginamerica seriously would pay flight seats...</td>\n",
       "      <td>0</td>\n",
       "      <td>14139</td>\n",
       "    </tr>\n",
       "  </tbody>\n",
       "</table>\n",
       "</div>"
      ],
      "text/plain": [
       "  airline_sentiment  airline_sentiment_confidence negativereason  \\\n",
       "0           neutral                        1.0000            NaN   \n",
       "2           neutral                        0.6837            NaN   \n",
       "3          negative                        1.0000     Bad Flight   \n",
       "4          negative                        1.0000     Can't Tell   \n",
       "5          negative                        1.0000     Can't Tell   \n",
       "\n",
       "   negativereason_confidence         airline  \\\n",
       "0                        NaN  Virgin America   \n",
       "2                        NaN  Virgin America   \n",
       "3                     0.7033  Virgin America   \n",
       "4                     1.0000  Virgin America   \n",
       "5                     0.6842  Virgin America   \n",
       "\n",
       "                                                text  \\\n",
       "0                @VirginAmerica What @dhepburn said.   \n",
       "2  @VirginAmerica I didn't today... Must mean I n...   \n",
       "3  @VirginAmerica it's really aggressive to blast...   \n",
       "4  @VirginAmerica and it's a really big bad thing...   \n",
       "5  @VirginAmerica seriously would pay $30 a fligh...   \n",
       "\n",
       "              tweet_created  \\\n",
       "0 2015-02-24 11:35:52-08:00   \n",
       "2 2015-02-24 11:15:48-08:00   \n",
       "3 2015-02-24 11:15:36-08:00   \n",
       "4 2015-02-24 11:14:45-08:00   \n",
       "5 2015-02-24 11:14:33-08:00   \n",
       "\n",
       "                                         clean_tweet  \\\n",
       "0                        virginamerica dhepburn said   \n",
       "2  virginamerica today must mean need take anothe...   \n",
       "3  virginamerica really aggressive blast obnoxiou...   \n",
       "4                 virginamerica really big bad thing   \n",
       "5  virginamerica seriously would pay flight seats...   \n",
       "\n",
       "   airline_sentiment_encoded  tweet_encoded  \n",
       "0                          1          13861  \n",
       "2                          1          14199  \n",
       "3                          0          14113  \n",
       "4                          0          14114  \n",
       "5                          0          14139  "
      ]
     },
     "execution_count": 73,
     "metadata": {},
     "output_type": "execute_result"
    }
   ],
   "source": [
    "dfnn.head()"
   ]
  },
  {
   "cell_type": "code",
   "execution_count": 74,
   "id": "a764c681",
   "metadata": {},
   "outputs": [],
   "source": [
    "xfnn = dfnn.clean_tweet\n",
    "yfnn = dfnn.airline_sentiment\n"
   ]
  },
  {
   "cell_type": "code",
   "execution_count": 75,
   "id": "59998d6f",
   "metadata": {},
   "outputs": [],
   "source": [
    "xfnn_train, xfnn_test, yfnn_train, yfnn_test = train_test_split(xfnn, yfnn, random_state=42,test_size=.2)"
   ]
  },
  {
   "cell_type": "code",
   "execution_count": 76,
   "id": "eac6ae8b",
   "metadata": {},
   "outputs": [
    {
     "data": {
      "text/plain": [
       "CountVectorizer()"
      ]
     },
     "execution_count": 76,
     "metadata": {},
     "output_type": "execute_result"
    }
   ],
   "source": [
    "vectfnn = CountVectorizer()\n",
    "vectfnn.fit(xfnn_train)"
   ]
  },
  {
   "cell_type": "code",
   "execution_count": 77,
   "id": "4ec702b9",
   "metadata": {},
   "outputs": [],
   "source": [
    "xfnn_train_dtm = vectfpn.transform(xfnn_train)\n",
    "xfnn_test_dtm = vectfpn.transform(xfnn_test)"
   ]
  },
  {
   "cell_type": "code",
   "execution_count": 78,
   "id": "0f3aa76e",
   "metadata": {},
   "outputs": [
    {
     "data": {
      "text/plain": [
       "SVC(kernel='linear', random_state=10)"
      ]
     },
     "execution_count": 78,
     "metadata": {},
     "output_type": "execute_result"
    }
   ],
   "source": [
    "modelfnn = SVC(kernel='linear', random_state = 10,decision_function_shape='ovr')\n",
    "modelfnn.fit(xfnn_train_dtm, yfnn_train)"
   ]
  },
  {
   "cell_type": "code",
   "execution_count": 79,
   "id": "1ae547bc",
   "metadata": {},
   "outputs": [],
   "source": [
    "predfnn = modelfnn.predict(xfnn_test_dtm)"
   ]
  },
  {
   "cell_type": "code",
   "execution_count": 80,
   "id": "5457ff3b",
   "metadata": {},
   "outputs": [
    {
     "data": {
      "text/plain": [
       "0.8138775510204082"
      ]
     },
     "execution_count": 80,
     "metadata": {},
     "output_type": "execute_result"
    }
   ],
   "source": [
    "#accuracy score\n",
    "accuracy_score(yfnn_test,predfnn)"
   ]
  },
  {
   "cell_type": "code",
   "execution_count": 81,
   "id": "fdfec672",
   "metadata": {},
   "outputs": [
    {
     "data": {
      "text/plain": [
       "array([[1631,  197],\n",
       "       [ 259,  363]], dtype=int64)"
      ]
     },
     "execution_count": 81,
     "metadata": {},
     "output_type": "execute_result"
    }
   ],
   "source": [
    "cmfnn = confusion_matrix(yfnn_test, predfnn)\n",
    "cmfnn"
   ]
  },
  {
   "cell_type": "code",
   "execution_count": 82,
   "id": "0ed9445d",
   "metadata": {},
   "outputs": [
    {
     "name": "stdout",
     "output_type": "stream",
     "text": [
      "              precision    recall  f1-score   support\n",
      "\n",
      "    negative       0.86      0.89      0.88      1828\n",
      "     neutral       0.65      0.58      0.61       622\n",
      "\n",
      "    accuracy                           0.81      2450\n",
      "   macro avg       0.76      0.74      0.75      2450\n",
      "weighted avg       0.81      0.81      0.81      2450\n",
      "\n"
     ]
    }
   ],
   "source": [
    "print(classification_report(yfnn_test,predfnn))"
   ]
  },
  {
   "cell_type": "markdown",
   "id": "f594eea6",
   "metadata": {},
   "source": [
    "DF"
   ]
  },
  {
   "cell_type": "code",
   "execution_count": 83,
   "id": "362a75e6",
   "metadata": {},
   "outputs": [
    {
     "data": {
      "text/html": [
       "<div>\n",
       "<style scoped>\n",
       "    .dataframe tbody tr th:only-of-type {\n",
       "        vertical-align: middle;\n",
       "    }\n",
       "\n",
       "    .dataframe tbody tr th {\n",
       "        vertical-align: top;\n",
       "    }\n",
       "\n",
       "    .dataframe thead th {\n",
       "        text-align: right;\n",
       "    }\n",
       "</style>\n",
       "<table border=\"1\" class=\"dataframe\">\n",
       "  <thead>\n",
       "    <tr style=\"text-align: right;\">\n",
       "      <th></th>\n",
       "      <th>airline_sentiment</th>\n",
       "      <th>airline_sentiment_confidence</th>\n",
       "      <th>negativereason</th>\n",
       "      <th>negativereason_confidence</th>\n",
       "      <th>airline</th>\n",
       "      <th>text</th>\n",
       "      <th>tweet_created</th>\n",
       "      <th>clean_tweet</th>\n",
       "      <th>airline_sentiment_encoded</th>\n",
       "      <th>tweet_encoded</th>\n",
       "    </tr>\n",
       "  </thead>\n",
       "  <tbody>\n",
       "    <tr>\n",
       "      <th>0</th>\n",
       "      <td>neutral</td>\n",
       "      <td>1.0000</td>\n",
       "      <td>NaN</td>\n",
       "      <td>NaN</td>\n",
       "      <td>Virgin America</td>\n",
       "      <td>@VirginAmerica What @dhepburn said.</td>\n",
       "      <td>2015-02-24 11:35:52-08:00</td>\n",
       "      <td>virginamerica dhepburn said</td>\n",
       "      <td>1</td>\n",
       "      <td>13861</td>\n",
       "    </tr>\n",
       "    <tr>\n",
       "      <th>1</th>\n",
       "      <td>positive</td>\n",
       "      <td>0.3486</td>\n",
       "      <td>NaN</td>\n",
       "      <td>0.0000</td>\n",
       "      <td>Virgin America</td>\n",
       "      <td>@VirginAmerica plus you've added commercials t...</td>\n",
       "      <td>2015-02-24 11:15:59-08:00</td>\n",
       "      <td>virginamerica plus added commercials experienc...</td>\n",
       "      <td>2</td>\n",
       "      <td>14097</td>\n",
       "    </tr>\n",
       "    <tr>\n",
       "      <th>2</th>\n",
       "      <td>neutral</td>\n",
       "      <td>0.6837</td>\n",
       "      <td>NaN</td>\n",
       "      <td>NaN</td>\n",
       "      <td>Virgin America</td>\n",
       "      <td>@VirginAmerica I didn't today... Must mean I n...</td>\n",
       "      <td>2015-02-24 11:15:48-08:00</td>\n",
       "      <td>virginamerica today must mean need take anothe...</td>\n",
       "      <td>1</td>\n",
       "      <td>14199</td>\n",
       "    </tr>\n",
       "    <tr>\n",
       "      <th>3</th>\n",
       "      <td>negative</td>\n",
       "      <td>1.0000</td>\n",
       "      <td>Bad Flight</td>\n",
       "      <td>0.7033</td>\n",
       "      <td>Virgin America</td>\n",
       "      <td>@VirginAmerica it's really aggressive to blast...</td>\n",
       "      <td>2015-02-24 11:15:36-08:00</td>\n",
       "      <td>virginamerica really aggressive blast obnoxiou...</td>\n",
       "      <td>0</td>\n",
       "      <td>14113</td>\n",
       "    </tr>\n",
       "    <tr>\n",
       "      <th>4</th>\n",
       "      <td>negative</td>\n",
       "      <td>1.0000</td>\n",
       "      <td>Can't Tell</td>\n",
       "      <td>1.0000</td>\n",
       "      <td>Virgin America</td>\n",
       "      <td>@VirginAmerica and it's a really big bad thing...</td>\n",
       "      <td>2015-02-24 11:14:45-08:00</td>\n",
       "      <td>virginamerica really big bad thing</td>\n",
       "      <td>0</td>\n",
       "      <td>14114</td>\n",
       "    </tr>\n",
       "  </tbody>\n",
       "</table>\n",
       "</div>"
      ],
      "text/plain": [
       "  airline_sentiment  airline_sentiment_confidence negativereason  \\\n",
       "0           neutral                        1.0000            NaN   \n",
       "1          positive                        0.3486            NaN   \n",
       "2           neutral                        0.6837            NaN   \n",
       "3          negative                        1.0000     Bad Flight   \n",
       "4          negative                        1.0000     Can't Tell   \n",
       "\n",
       "   negativereason_confidence         airline  \\\n",
       "0                        NaN  Virgin America   \n",
       "1                     0.0000  Virgin America   \n",
       "2                        NaN  Virgin America   \n",
       "3                     0.7033  Virgin America   \n",
       "4                     1.0000  Virgin America   \n",
       "\n",
       "                                                text  \\\n",
       "0                @VirginAmerica What @dhepburn said.   \n",
       "1  @VirginAmerica plus you've added commercials t...   \n",
       "2  @VirginAmerica I didn't today... Must mean I n...   \n",
       "3  @VirginAmerica it's really aggressive to blast...   \n",
       "4  @VirginAmerica and it's a really big bad thing...   \n",
       "\n",
       "              tweet_created  \\\n",
       "0 2015-02-24 11:35:52-08:00   \n",
       "1 2015-02-24 11:15:59-08:00   \n",
       "2 2015-02-24 11:15:48-08:00   \n",
       "3 2015-02-24 11:15:36-08:00   \n",
       "4 2015-02-24 11:14:45-08:00   \n",
       "\n",
       "                                         clean_tweet  \\\n",
       "0                        virginamerica dhepburn said   \n",
       "1  virginamerica plus added commercials experienc...   \n",
       "2  virginamerica today must mean need take anothe...   \n",
       "3  virginamerica really aggressive blast obnoxiou...   \n",
       "4                 virginamerica really big bad thing   \n",
       "\n",
       "   airline_sentiment_encoded  tweet_encoded  \n",
       "0                          1          13861  \n",
       "1                          2          14097  \n",
       "2                          1          14199  \n",
       "3                          0          14113  \n",
       "4                          0          14114  "
      ]
     },
     "execution_count": 83,
     "metadata": {},
     "output_type": "execute_result"
    }
   ],
   "source": [
    "df.head()"
   ]
  },
  {
   "cell_type": "code",
   "execution_count": 84,
   "id": "f2532ec6",
   "metadata": {},
   "outputs": [],
   "source": [
    "x = df.clean_tweet\n",
    "y = df.airline_sentiment\n"
   ]
  },
  {
   "cell_type": "code",
   "execution_count": 85,
   "id": "e61cbf7b",
   "metadata": {},
   "outputs": [],
   "source": [
    "x_train, x_test, y_train, y_test = train_test_split(x, y, random_state=42,test_size=.2)"
   ]
  },
  {
   "cell_type": "markdown",
   "id": "58616294",
   "metadata": {},
   "source": [
    " CountVectorizer is a text preprocessing module from the scikit-learn library in Python, which converts a collection of text documents to a matrix of token counts.\n"
   ]
  },
  {
   "cell_type": "markdown",
   "id": "07c0279b",
   "metadata": {},
   "source": [
    "Token\t            Document 1\t            Document 2\t                         Document 3\n",
    "\n",
    "apple\t              2\t                       1                                      0\n",
    "\n",
    "banana\t              1\t                       2\t                                  1\n",
    " \n",
    "orange\t              0\t                       1\t                                  2\n",
    "\n",
    "peach\t              1\t                       0\t                                  1\n"
   ]
  },
  {
   "cell_type": "code",
   "execution_count": 86,
   "id": "ffa74988",
   "metadata": {},
   "outputs": [
    {
     "data": {
      "text/plain": [
       "CountVectorizer()"
      ]
     },
     "execution_count": 86,
     "metadata": {},
     "output_type": "execute_result"
    }
   ],
   "source": [
    "vect = CountVectorizer()\n",
    "vect.fit(x_train)"
   ]
  },
  {
   "cell_type": "code",
   "execution_count": 87,
   "id": "0a7fad8b",
   "metadata": {},
   "outputs": [],
   "source": [
    "x_train_dtm = vect.transform(x_train)\n",
    "x_test_dtm = vect.transform(x_test)"
   ]
  },
  {
   "cell_type": "code",
   "execution_count": 88,
   "id": "c45689c5",
   "metadata": {},
   "outputs": [
    {
     "data": {
      "text/plain": [
       "SVC(kernel='linear', random_state=10)"
      ]
     },
     "execution_count": 88,
     "metadata": {},
     "output_type": "execute_result"
    }
   ],
   "source": [
    "model = SVC(kernel='linear',decision_function_shape='ovr', random_state = 10)\n",
    "model.fit(x_train_dtm, y_train)"
   ]
  },
  {
   "cell_type": "code",
   "execution_count": 89,
   "id": "ac25b855",
   "metadata": {},
   "outputs": [],
   "source": [
    "pred = model.predict(x_test_dtm)"
   ]
  },
  {
   "cell_type": "code",
   "execution_count": 90,
   "id": "ed7476d0",
   "metadata": {},
   "outputs": [
    {
     "data": {
      "text/plain": [
       "0.7699418007531668"
      ]
     },
     "execution_count": 90,
     "metadata": {},
     "output_type": "execute_result"
    }
   ],
   "source": [
    "#accuracy score\n",
    "accuracy_score(y_test,pred)"
   ]
  },
  {
   "cell_type": "code",
   "execution_count": 91,
   "id": "e1afcaef",
   "metadata": {},
   "outputs": [
    {
     "data": {
      "text/plain": [
       "array([[1602,  187,   68],\n",
       "       [ 205,  323,   60],\n",
       "       [  94,   58,  324]], dtype=int64)"
      ]
     },
     "execution_count": 91,
     "metadata": {},
     "output_type": "execute_result"
    }
   ],
   "source": [
    "cmf = confusion_matrix(y_test, pred)\n",
    "cmf"
   ]
  },
  {
   "cell_type": "code",
   "execution_count": 92,
   "id": "e51c7429",
   "metadata": {},
   "outputs": [
    {
     "name": "stdout",
     "output_type": "stream",
     "text": [
      "              precision    recall  f1-score   support\n",
      "\n",
      "    negative       0.84      0.86      0.85      1857\n",
      "     neutral       0.57      0.55      0.56       588\n",
      "    positive       0.72      0.68      0.70       476\n",
      "\n",
      "    accuracy                           0.77      2921\n",
      "   macro avg       0.71      0.70      0.70      2921\n",
      "weighted avg       0.77      0.77      0.77      2921\n",
      "\n"
     ]
    }
   ],
   "source": [
    "print(classification_report(y_test,pred))"
   ]
  },
  {
   "cell_type": "code",
   "execution_count": null,
   "id": "fb50e9e1",
   "metadata": {},
   "outputs": [],
   "source": []
  },
  {
   "cell_type": "code",
   "execution_count": null,
   "id": "f64133a0",
   "metadata": {},
   "outputs": [],
   "source": []
  },
  {
   "cell_type": "markdown",
   "id": "e59d6c40",
   "metadata": {},
   "source": [
    "The data is imbalanced"
   ]
  },
  {
   "cell_type": "markdown",
   "id": "a7c6af08",
   "metadata": {},
   "source": [
    "Three balancing  methods will apply the best fit will be adopted."
   ]
  },
  {
   "cell_type": "markdown",
   "id": "10cc5ba8",
   "metadata": {},
   "source": [
    "1.RndomOverSampling\n",
    "2.RandomUnderSampling\n",
    "3.SMOTE"
   ]
  },
  {
   "cell_type": "code",
   "execution_count": null,
   "id": "fd58fbcf",
   "metadata": {},
   "outputs": [],
   "source": []
  },
  {
   "cell_type": "markdown",
   "id": "1369117c",
   "metadata": {},
   "source": [
    "# DATA BALANCING"
   ]
  },
  {
   "cell_type": "markdown",
   "id": "5c372e26",
   "metadata": {},
   "source": [
    "1.RandomOverSampling(ROS)"
   ]
  },
  {
   "cell_type": "code",
   "execution_count": 93,
   "id": "50fc5732",
   "metadata": {},
   "outputs": [],
   "source": [
    "x=df.tweet_encoded\n",
    "y=df.airline_sentiment_encoded"
   ]
  },
  {
   "cell_type": "code",
   "execution_count": 94,
   "id": "e5d4119d",
   "metadata": {},
   "outputs": [],
   "source": [
    "from imblearn.over_sampling import RandomOverSampler"
   ]
  },
  {
   "cell_type": "code",
   "execution_count": 95,
   "id": "475ff47a",
   "metadata": {},
   "outputs": [],
   "source": [
    "ros=RandomOverSampler(random_state=51)"
   ]
  },
  {
   "cell_type": "code",
   "execution_count": 96,
   "id": "31ee1241",
   "metadata": {},
   "outputs": [],
   "source": [
    "#Changing dimension of x and y from 1D to 2D"
   ]
  },
  {
   "cell_type": "code",
   "execution_count": 97,
   "id": "53068277",
   "metadata": {},
   "outputs": [],
   "source": [
    "xros_2d =np.array(x).reshape(-1, 1)\n",
    "yros_2d=np.array(y).reshape(-1,1)\n"
   ]
  },
  {
   "cell_type": "code",
   "execution_count": 98,
   "id": "3ec46a43",
   "metadata": {},
   "outputs": [],
   "source": [
    "xros,yros=ros.fit_resample(xros_2d,yros_2d)"
   ]
  },
  {
   "cell_type": "code",
   "execution_count": 99,
   "id": "8e5922b0",
   "metadata": {},
   "outputs": [],
   "source": [
    "seriesyros=pd.Series(yros)"
   ]
  },
  {
   "cell_type": "code",
   "execution_count": 100,
   "id": "f63cd537",
   "metadata": {},
   "outputs": [
    {
     "data": {
      "text/plain": [
       "1    9157\n",
       "2    9157\n",
       "0    9157\n",
       "dtype: int64"
      ]
     },
     "execution_count": 100,
     "metadata": {},
     "output_type": "execute_result"
    }
   ],
   "source": [
    "seriesyros.value_counts()"
   ]
  },
  {
   "cell_type": "markdown",
   "id": "a4350571",
   "metadata": {},
   "source": [
    "Spliting with the ROS data"
   ]
  },
  {
   "cell_type": "code",
   "execution_count": 101,
   "id": "0232fc51",
   "metadata": {},
   "outputs": [],
   "source": [
    "xros_train, xros_test, yros_train, yros_test = train_test_split(xros, yros, random_state=42,test_size=.2)"
   ]
  },
  {
   "cell_type": "markdown",
   "id": "5445b6b2",
   "metadata": {},
   "source": [
    "2.RandomUnderSampling(RUS)"
   ]
  },
  {
   "cell_type": "code",
   "execution_count": 102,
   "id": "efbb9ec4",
   "metadata": {},
   "outputs": [],
   "source": [
    "from imblearn.under_sampling import RandomUnderSampler"
   ]
  },
  {
   "cell_type": "code",
   "execution_count": 103,
   "id": "599ba9f9",
   "metadata": {},
   "outputs": [],
   "source": [
    "rus=RandomUnderSampler()"
   ]
  },
  {
   "cell_type": "code",
   "execution_count": 104,
   "id": "3da72a98",
   "metadata": {},
   "outputs": [],
   "source": [
    "xrus_2d=np.array(x).reshape(-1, 1)"
   ]
  },
  {
   "cell_type": "code",
   "execution_count": 105,
   "id": "75bd4fea",
   "metadata": {},
   "outputs": [],
   "source": [
    "yrus_2d=np.array(y).reshape(-1,1)"
   ]
  },
  {
   "cell_type": "code",
   "execution_count": 106,
   "id": "6d6142b2",
   "metadata": {},
   "outputs": [],
   "source": [
    "xrus,yrus=rus.fit_resample(xrus_2d,yrus_2d)"
   ]
  },
  {
   "cell_type": "code",
   "execution_count": 107,
   "id": "713811a6",
   "metadata": {},
   "outputs": [],
   "source": [
    "seriesyrus=pd.Series(yrus)"
   ]
  },
  {
   "cell_type": "code",
   "execution_count": 108,
   "id": "b1680bb9",
   "metadata": {},
   "outputs": [
    {
     "data": {
      "text/plain": [
       "0    2353\n",
       "1    2353\n",
       "2    2353\n",
       "dtype: int64"
      ]
     },
     "execution_count": 108,
     "metadata": {},
     "output_type": "execute_result"
    }
   ],
   "source": [
    "seriesyrus.value_counts()"
   ]
  },
  {
   "cell_type": "markdown",
   "id": "e559731a",
   "metadata": {},
   "source": [
    "Spliting with the RUS data"
   ]
  },
  {
   "cell_type": "code",
   "execution_count": 109,
   "id": "3c061062",
   "metadata": {},
   "outputs": [],
   "source": [
    "xrus_train, xrus_test, yrus_train, yrus_test = train_test_split(xrus, yrus, random_state=42,test_size=.2)"
   ]
  },
  {
   "cell_type": "markdown",
   "id": "d244b5e6",
   "metadata": {},
   "source": [
    " 3.SMOTE"
   ]
  },
  {
   "cell_type": "code",
   "execution_count": 110,
   "id": "77b28bc6",
   "metadata": {},
   "outputs": [],
   "source": [
    "from imblearn.over_sampling import SMOTE"
   ]
  },
  {
   "cell_type": "code",
   "execution_count": 111,
   "id": "7f3f4542",
   "metadata": {},
   "outputs": [],
   "source": [
    "sm=SMOTE()"
   ]
  },
  {
   "cell_type": "code",
   "execution_count": 112,
   "id": "ffcf9797",
   "metadata": {},
   "outputs": [],
   "source": [
    "xsm_2d=np.array(x).reshape(-1,1)"
   ]
  },
  {
   "cell_type": "code",
   "execution_count": 113,
   "id": "97cace47",
   "metadata": {},
   "outputs": [],
   "source": [
    "ysm_2d=np.array(y).reshape(-1,1)"
   ]
  },
  {
   "cell_type": "code",
   "execution_count": 114,
   "id": "ec838f54",
   "metadata": {},
   "outputs": [],
   "source": [
    "xsm,ysm=sm.fit_resample(xsm_2d,ysm_2d)"
   ]
  },
  {
   "cell_type": "code",
   "execution_count": 115,
   "id": "a7725ba5",
   "metadata": {},
   "outputs": [],
   "source": [
    "seriesysm=pd.Series(ysm)"
   ]
  },
  {
   "cell_type": "code",
   "execution_count": 116,
   "id": "3ce45a93",
   "metadata": {},
   "outputs": [
    {
     "data": {
      "text/plain": [
       "1    9157\n",
       "2    9157\n",
       "0    9157\n",
       "dtype: int64"
      ]
     },
     "execution_count": 116,
     "metadata": {},
     "output_type": "execute_result"
    }
   ],
   "source": [
    "seriesysm.value_counts()"
   ]
  },
  {
   "cell_type": "markdown",
   "id": "157904f8",
   "metadata": {},
   "source": [
    "Spliting the data using SMOTE."
   ]
  },
  {
   "cell_type": "code",
   "execution_count": 117,
   "id": "04c76870",
   "metadata": {},
   "outputs": [],
   "source": [
    "xsm_train, xsm_test, ysm_train, ysm_test = train_test_split(xsm, ysm, random_state=42,test_size=.2)"
   ]
  },
  {
   "cell_type": "markdown",
   "id": "c3014ca0",
   "metadata": {},
   "source": []
  },
  {
   "cell_type": "markdown",
   "id": "1e817d3b",
   "metadata": {},
   "source": []
  },
  {
   "cell_type": "code",
   "execution_count": null,
   "id": "939c1e2d",
   "metadata": {},
   "outputs": [],
   "source": []
  },
  {
   "cell_type": "markdown",
   "id": "f1add3f8",
   "metadata": {},
   "source": [
    "# RANDOM FOREST CLASSIFIER"
   ]
  },
  {
   "cell_type": "code",
   "execution_count": 118,
   "id": "c069c31a",
   "metadata": {},
   "outputs": [],
   "source": [
    "from sklearn.ensemble import RandomForestClassifier"
   ]
  },
  {
   "cell_type": "code",
   "execution_count": 119,
   "id": "0590da7d",
   "metadata": {},
   "outputs": [],
   "source": [
    "classifier=RandomForestClassifier()"
   ]
  },
  {
   "cell_type": "markdown",
   "id": "3dccfe44",
   "metadata": {},
   "source": [
    "USING ROS"
   ]
  },
  {
   "cell_type": "code",
   "execution_count": 120,
   "id": "da50d9fe",
   "metadata": {},
   "outputs": [],
   "source": [
    "xros_train, xros_test, yros_train, yros_test = train_test_split(xros, yros, random_state=42,test_size=.2)"
   ]
  },
  {
   "cell_type": "code",
   "execution_count": 121,
   "id": "5bc556e4",
   "metadata": {},
   "outputs": [
    {
     "data": {
      "text/plain": [
       "RandomForestClassifier()"
      ]
     },
     "execution_count": 121,
     "metadata": {},
     "output_type": "execute_result"
    }
   ],
   "source": [
    "classifier.fit(xros_train,yros_train)"
   ]
  },
  {
   "cell_type": "code",
   "execution_count": 122,
   "id": "e7388c29",
   "metadata": {},
   "outputs": [],
   "source": [
    "y_predros=classifier.predict(xros_test)"
   ]
  },
  {
   "cell_type": "code",
   "execution_count": 123,
   "id": "a4e4fa62",
   "metadata": {},
   "outputs": [
    {
     "name": "stdout",
     "output_type": "stream",
     "text": [
      "accuracy 0.8678798908098271\n"
     ]
    }
   ],
   "source": [
    "print(\"accuracy\",accuracy_score(yros_test,y_predros))"
   ]
  },
  {
   "cell_type": "code",
   "execution_count": 124,
   "id": "5d1ad695",
   "metadata": {},
   "outputs": [
    {
     "name": "stdout",
     "output_type": "stream",
     "text": [
      "              precision    recall  f1-score   support\n",
      "\n",
      "           0       0.94      0.68      0.79      1835\n",
      "           1       0.82      0.94      0.88      1842\n",
      "           2       0.87      0.98      0.92      1818\n",
      "\n",
      "    accuracy                           0.87      5495\n",
      "   macro avg       0.88      0.87      0.86      5495\n",
      "weighted avg       0.88      0.87      0.86      5495\n",
      "\n"
     ]
    }
   ],
   "source": [
    "print(classification_report(yros_test,y_predros))"
   ]
  },
  {
   "cell_type": "markdown",
   "id": "0fbec6a4",
   "metadata": {},
   "source": [
    "USING RUS"
   ]
  },
  {
   "cell_type": "code",
   "execution_count": 125,
   "id": "f08cd2b0",
   "metadata": {},
   "outputs": [],
   "source": [
    "xrus_train, xrus_test, yrus_train, yrus_test = train_test_split(xrus, yrus, random_state=42,test_size=.2)"
   ]
  },
  {
   "cell_type": "code",
   "execution_count": 126,
   "id": "914b884e",
   "metadata": {},
   "outputs": [
    {
     "data": {
      "text/plain": [
       "RandomForestClassifier()"
      ]
     },
     "execution_count": 126,
     "metadata": {},
     "output_type": "execute_result"
    }
   ],
   "source": [
    "classifier.fit(xrus_train,yrus_train)"
   ]
  },
  {
   "cell_type": "code",
   "execution_count": 127,
   "id": "09dfc509",
   "metadata": {},
   "outputs": [],
   "source": [
    "y_predrus=classifier.predict(xrus_test)"
   ]
  },
  {
   "cell_type": "code",
   "execution_count": 128,
   "id": "0d13deb3",
   "metadata": {},
   "outputs": [
    {
     "name": "stdout",
     "output_type": "stream",
     "text": [
      "accuracy 0.48371104815864024\n"
     ]
    }
   ],
   "source": [
    "print(\"accuracy\",accuracy_score(yrus_test,y_predrus))"
   ]
  },
  {
   "cell_type": "code",
   "execution_count": 129,
   "id": "46425b78",
   "metadata": {},
   "outputs": [
    {
     "name": "stdout",
     "output_type": "stream",
     "text": [
      "              precision    recall  f1-score   support\n",
      "\n",
      "           0       0.53      0.46      0.50       494\n",
      "           1       0.42      0.44      0.43       458\n",
      "           2       0.51      0.55      0.53       460\n",
      "\n",
      "    accuracy                           0.48      1412\n",
      "   macro avg       0.49      0.48      0.48      1412\n",
      "weighted avg       0.49      0.48      0.48      1412\n",
      "\n"
     ]
    }
   ],
   "source": [
    "print(classification_report(yrus_test,y_predrus))"
   ]
  },
  {
   "cell_type": "markdown",
   "id": "4befcf14",
   "metadata": {},
   "source": [
    "USING SMOTE"
   ]
  },
  {
   "cell_type": "code",
   "execution_count": 130,
   "id": "27110695",
   "metadata": {},
   "outputs": [],
   "source": [
    "xsm_train, xsm_test, ysm_train, ysm_test = train_test_split(xsm, ysm, random_state=42,test_size=.2)"
   ]
  },
  {
   "cell_type": "code",
   "execution_count": 131,
   "id": "c45efa77",
   "metadata": {},
   "outputs": [
    {
     "data": {
      "text/plain": [
       "RandomForestClassifier()"
      ]
     },
     "execution_count": 131,
     "metadata": {},
     "output_type": "execute_result"
    }
   ],
   "source": [
    "classifier.fit(xsm_train,ysm_train)"
   ]
  },
  {
   "cell_type": "code",
   "execution_count": 132,
   "id": "a5a16bdc",
   "metadata": {
    "scrolled": false
   },
   "outputs": [],
   "source": [
    "\n",
    "y_predsm=classifier.predict(xsm_test)"
   ]
  },
  {
   "cell_type": "code",
   "execution_count": 133,
   "id": "bd879f5d",
   "metadata": {},
   "outputs": [
    {
     "name": "stdout",
     "output_type": "stream",
     "text": [
      "accuracy 0.5699727024567789\n"
     ]
    }
   ],
   "source": [
    "print(\"accuracy\",accuracy_score(ysm_test,y_predsm))"
   ]
  },
  {
   "cell_type": "code",
   "execution_count": 134,
   "id": "08284d45",
   "metadata": {},
   "outputs": [
    {
     "name": "stdout",
     "output_type": "stream",
     "text": [
      "              precision    recall  f1-score   support\n",
      "\n",
      "           0       0.54      0.47      0.50      1835\n",
      "           1       0.56      0.59      0.57      1842\n",
      "           2       0.60      0.65      0.63      1818\n",
      "\n",
      "    accuracy                           0.57      5495\n",
      "   macro avg       0.57      0.57      0.57      5495\n",
      "weighted avg       0.57      0.57      0.57      5495\n",
      "\n"
     ]
    }
   ],
   "source": [
    "print(classification_report(ysm_test,y_predsm))"
   ]
  },
  {
   "cell_type": "markdown",
   "id": "7c92875f",
   "metadata": {},
   "source": []
  },
  {
   "cell_type": "code",
   "execution_count": null,
   "id": "2e9f03f1",
   "metadata": {},
   "outputs": [],
   "source": []
  },
  {
   "cell_type": "code",
   "execution_count": null,
   "id": "b9ae8393",
   "metadata": {},
   "outputs": [],
   "source": []
  },
  {
   "cell_type": "markdown",
   "id": "e13a64e0",
   "metadata": {},
   "source": []
  },
  {
   "cell_type": "code",
   "execution_count": null,
   "id": "8fb5ec36",
   "metadata": {},
   "outputs": [],
   "source": []
  },
  {
   "cell_type": "code",
   "execution_count": null,
   "id": "b26c3dd4",
   "metadata": {},
   "outputs": [],
   "source": []
  },
  {
   "cell_type": "code",
   "execution_count": null,
   "id": "81e6ff3e",
   "metadata": {},
   "outputs": [],
   "source": []
  },
  {
   "cell_type": "code",
   "execution_count": null,
   "id": "49644618",
   "metadata": {},
   "outputs": [],
   "source": []
  },
  {
   "cell_type": "code",
   "execution_count": null,
   "id": "57aab981",
   "metadata": {},
   "outputs": [],
   "source": []
  },
  {
   "cell_type": "markdown",
   "id": "4cdfee13",
   "metadata": {},
   "source": []
  },
  {
   "cell_type": "code",
   "execution_count": null,
   "id": "cb97ef01",
   "metadata": {},
   "outputs": [],
   "source": []
  },
  {
   "cell_type": "code",
   "execution_count": null,
   "id": "ac32b83f",
   "metadata": {},
   "outputs": [],
   "source": []
  },
  {
   "cell_type": "code",
   "execution_count": null,
   "id": "fa4c4947",
   "metadata": {},
   "outputs": [],
   "source": []
  },
  {
   "cell_type": "code",
   "execution_count": null,
   "id": "1130cc86",
   "metadata": {},
   "outputs": [],
   "source": []
  },
  {
   "cell_type": "markdown",
   "id": "59d30617",
   "metadata": {},
   "source": []
  },
  {
   "cell_type": "code",
   "execution_count": 135,
   "id": "6a165e45",
   "metadata": {},
   "outputs": [],
   "source": []
  },
  {
   "cell_type": "code",
   "execution_count": 136,
   "id": "c8d54881",
   "metadata": {},
   "outputs": [],
   "source": []
  },
  {
   "cell_type": "code",
   "execution_count": null,
   "id": "1012fba5",
   "metadata": {},
   "outputs": [],
   "source": []
  },
  {
   "cell_type": "code",
   "execution_count": null,
   "id": "6ed3cf13",
   "metadata": {},
   "outputs": [],
   "source": [
    "n"
   ]
  },
  {
   "cell_type": "code",
   "execution_count": null,
   "id": "9dcf1ad8",
   "metadata": {},
   "outputs": [],
   "source": []
  }
 ],
 "metadata": {
  "kernelspec": {
   "display_name": "Python 3 (ipykernel)",
   "language": "python",
   "name": "python3"
  },
  "language_info": {
   "codemirror_mode": {
    "name": "ipython",
    "version": 3
   },
   "file_extension": ".py",
   "mimetype": "text/x-python",
   "name": "python",
   "nbconvert_exporter": "python",
   "pygments_lexer": "ipython3",
   "version": "3.9.13"
  }
 },
 "nbformat": 4,
 "nbformat_minor": 5
}
